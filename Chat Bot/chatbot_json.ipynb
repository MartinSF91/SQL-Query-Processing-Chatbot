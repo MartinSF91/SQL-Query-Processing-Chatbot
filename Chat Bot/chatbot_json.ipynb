{
 "cells": [
  {
   "cell_type": "code",
   "execution_count": 99,
   "metadata": {},
   "outputs": [],
   "source": [
    "import ollama\n",
    "import chromadb\n",
    "import numpy as np\n",
    "from sklearn.metrics.pairwise import cosine_similarity\n",
    "import pandas as pd\n",
    "import json\n",
    "import re\n"
   ]
  },
  {
   "cell_type": "code",
   "execution_count": 2,
   "metadata": {},
   "outputs": [],
   "source": [
    "client = chromadb.Client()\n",
    "collection = client.create_collection(name=\"docs\")"
   ]
  },
  {
   "cell_type": "code",
   "execution_count": 10,
   "metadata": {},
   "outputs": [],
   "source": [
    "client.delete_collection(name=\"docs\")\n",
    "collection = client.create_collection(name=\"docs\")\n",
    "\n",
    "documents = load_json()\n",
    "document_embeddings = document_embedding(documents)"
   ]
  },
  {
   "cell_type": "code",
   "execution_count": null,
   "metadata": {},
   "outputs": [
    {
     "name": "stdout",
     "output_type": "stream",
     "text": [
      "Yes, a report containing the specified columns named **\"AAYE STOCKAGE\"** exists. \n",
      "\n",
      "Similarity for Report Name 'AAYE STOCKAGE': 70.71%\n",
      "Similarity for Report Name 'ART SUP CWIS': 65.84%\n",
      "Similarity for Report Name 'ADM CHECK': 65.32%\n"
     ]
    }
   ],
   "source": [
    "# desired_columns = [\"ACT_END_DATE, BUA_NO_START\"] # YVES INBOUND NOT COMPLETED\n",
    "# desired_columns = [\"ONHANDQTY, PARTNO\"] # CWIS ASTRO CDC CMR\n",
    "# desired_columns = [\"ECARRNO\"] # MIP 490 INBOUND PALLETS AND TOTAL OH\n",
    "# desired_columns = [\"ASTRO_TRIP_ID\", \"ITEM_ID\"] # YVES STORE ORDERS VOLUME BY DAY\n",
    "desired_columns = [ # AAYE STOCKAGE\n",
    "    \"AMOONCR\",\n",
    "    \"CARRSTAT\",\n",
    "    \"CARRTYPE\",\n",
    "    \"DIVCODE\",\n",
    "    \"ECARRNO\",\n",
    "    \"FLEXDAYS\",\n",
    "    \"G08PDATE\",\n",
    "    \"LDCT\",\n",
    "    \"LOCKCODE\",\n",
    "    \"LOTID\",\n",
    "]\n",
    "\n",
    "main(desired_columns, document_embeddings)"
   ]
  },
  {
   "cell_type": "markdown",
   "metadata": {},
   "source": [
    "#### `main`"
   ]
  },
  {
   "cell_type": "code",
   "execution_count": null,
   "metadata": {},
   "outputs": [],
   "source": [
    "def main(desired_columns, document_embeddings):\n",
    "\n",
    "    desired_columns = liste_zu_string(desired_columns)\n",
    "\n",
    "    prompt_embeddings = ollama.embeddings(model=\"mxbai-embed-large:latest\", prompt=desired_columns)\n",
    "\n",
    "    retrieval_results = retrieve(prompt_embeddings)\n",
    "\n",
    "    similarity = calculate_similarity(document_embeddings, prompt_embeddings, retrieval_results)\n",
    "\n",
    "    generate_output(desired_columns, retrieval_results, similarity)"
   ]
  },
  {
   "cell_type": "markdown",
   "metadata": {},
   "source": [
    "##### `load_json`"
   ]
  },
  {
   "cell_type": "code",
   "execution_count": 4,
   "metadata": {},
   "outputs": [],
   "source": [
    "def liste_zu_string(liste):\n",
    "    return ', '.join(map(str, liste))\n",
    "\n",
    "def zeile_zu_string(row):\n",
    "    return ', '.join(map(str, row))"
   ]
  },
  {
   "cell_type": "code",
   "execution_count": 5,
   "metadata": {},
   "outputs": [],
   "source": [
    "def load_json():\n",
    "\n",
    "    PATH = \"../Query Processing/4_json_results/migrated_query_data.json\"\n",
    "\n",
    "    with open(PATH, 'r') as json_file:\n",
    "        query_data = json.load(json_file)\n",
    "\n",
    "    report_names = []\n",
    "    report_columns = []\n",
    "\n",
    "    for key, value in query_data.items():\n",
    "        report_names.append(value[\"report_name\"].strip())\n",
    "        report_columns.append(value[\"columns_cleansed\"])\n",
    "\n",
    "    df = pd.DataFrame({\"report_name\": report_names, \"report_columns\": report_columns})\n",
    "    df['report_columns'] = df[\"report_columns\"].apply(liste_zu_string)\n",
    "\n",
    "    df[\"documents\"] = \"Report Name \" + \"'\" + df[\"report_name\"]+ \"'\" + \" contains columns: \" + df[\"report_columns\"]\n",
    "\n",
    "    return df[[\"documents\"]].apply(zeile_zu_string, axis=1).tolist()"
   ]
  },
  {
   "cell_type": "markdown",
   "metadata": {},
   "source": [
    "##### `document_embedding`"
   ]
  },
  {
   "cell_type": "code",
   "execution_count": 102,
   "metadata": {},
   "outputs": [],
   "source": [
    "def document_embedding(documents):\n",
    "\n",
    "    document_embeddings = []\n",
    "\n",
    "    for i, d in enumerate(documents):\n",
    "        response = ollama.embed(model=\"mxbai-embed-large:latest\", input=d)\n",
    "        embeddings = response[\"embeddings\"]\n",
    "        document_embeddings.append(embeddings)\n",
    "        collection.add(ids=[str(i)], embeddings=embeddings, documents=[d])\n",
    "\n",
    "    return document_embeddings,"
   ]
  },
  {
   "cell_type": "markdown",
   "metadata": {},
   "source": [
    "##### `retrieve`"
   ]
  },
  {
   "cell_type": "code",
   "execution_count": 90,
   "metadata": {},
   "outputs": [],
   "source": [
    "def retrieve(embedded_prompt):\n",
    "    retrieval_results = collection.query(query_embeddings=embedded_prompt[\"embedding\"], n_results=3)\n",
    "    return retrieval_results"
   ]
  },
  {
   "cell_type": "markdown",
   "metadata": {},
   "source": [
    "##### `calculate_similarity`"
   ]
  },
  {
   "cell_type": "code",
   "execution_count": null,
   "metadata": {},
   "outputs": [],
   "source": [
    "def calculate_similarity(document_embeddings, embedded_prompt, retrieval_results):\n",
    "    # document_vector = np.array(document_embeddings[0][int(retrieval_results[\"ids\"][0][0])]).reshape(1, -1)\n",
    "    # prompt_vector = np.array(embedded_prompt[\"embedding\"]).reshape(1, -1)\n",
    "    # similarity = cosine_similarity(document_vector, prompt_vector).flatten()[0]\n",
    "\n",
    "    # return similarity\n",
    "\n",
    "    similarities = []\n",
    "\n",
    "    prompt_vector = np.array(embedded_prompt[\"embedding\"]).reshape(1, -1)\n",
    "    for i in range(len(retrieval_results[\"ids\"][0])):\n",
    "        document_vector = np.array(document_embeddings[0][int(retrieval_results[\"ids\"][0][i])]).reshape(1, -1)\n",
    "        similarities.append(cosine_similarity(document_vector, prompt_vector).flatten()[0])\n",
    "\n",
    "    return similarities"
   ]
  },
  {
   "cell_type": "markdown",
   "metadata": {},
   "source": [
    "##### `generate_output`"
   ]
  },
  {
   "cell_type": "code",
   "execution_count": 101,
   "metadata": {},
   "outputs": [],
   "source": [
    "def generate_output(desired_columns, retrieval_results, similarity):\n",
    "\n",
    "    PROMPT = f\"Please check if there is a report containing the columns '{desired_columns}'. If such a report exists, provide the report name.\"\n",
    "\n",
    "    output = ollama.generate(\n",
    "        model=\"gemma2:2b\",\n",
    "        prompt=f\"Using this data: {retrieval_results[\"documents\"][0][0]}. Respond to this prompt: {PROMPT}\",\n",
    "    )\n",
    "\n",
    "    print(output[\"response\"])\n",
    "    for i, doc in enumerate(retrieval_results[\"documents\"][0]):\n",
    "        match = re.search(r\"Report Name '.*?'\", retrieval_results[\"documents\"][0][i])\n",
    "        if match:\n",
    "            print(f\"Similarity for {match.group(0)}: {round(similarity[i] * 100, 2)}%\")\n",
    "        else:\n",
    "            print(f\"Similarity for {retrieval_results[\"documents\"][0][i]}: {round(similarity[i] * 100, 2)}%\")"
   ]
  },
  {
   "cell_type": "code",
   "execution_count": null,
   "metadata": {},
   "outputs": [],
   "source": []
  }
 ],
 "metadata": {
  "kernelspec": {
   "display_name": "Python 3",
   "language": "python",
   "name": "python3"
  },
  "language_info": {
   "codemirror_mode": {
    "name": "ipython",
    "version": 3
   },
   "file_extension": ".py",
   "mimetype": "text/x-python",
   "name": "python",
   "nbconvert_exporter": "python",
   "pygments_lexer": "ipython3",
   "version": "3.13.1"
  }
 },
 "nbformat": 4,
 "nbformat_minor": 2
}
