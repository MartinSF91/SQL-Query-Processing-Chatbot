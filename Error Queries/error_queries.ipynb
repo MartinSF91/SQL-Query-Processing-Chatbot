{
 "cells": [
  {
   "cell_type": "code",
   "execution_count": 1,
   "metadata": {},
   "outputs": [],
   "source": [
    "from sql_metadata import Parser\n",
    "import pandas as pd"
   ]
  },
  {
   "cell_type": "code",
   "execution_count": 45,
   "metadata": {},
   "outputs": [],
   "source": [
    "query = \"\"\"\n",
    "SELECT \"T0\".\"C0\" \"ViCO_LS_ID\",\n",
    "       \"T0\".\"C1\" \"lscpostord\",\n",
    "       \"T0\".\"C2\" \"VICOrd_UpdateDate\",\n",
    "       \"T0\".\"C3\" \"VICOrdLin_LineId\",\n",
    "       \"T0\".\"C4\" \"VICOrdLin_VolumePlan\",\n",
    "       \"T0\".\"C5\" \"VICOrdLin_VolumeTotal\",\n",
    "       \"T0\".\"C6\" \"VICOrdLin_UpdateDate\",\n",
    "       \"T0\".\"C7\" \"VICOrdLin_QtyShip\",\n",
    "       \"T0\".\"C8\" \"VICOrd_BuCodeRcv\",\n",
    "       \"T0\".\"C9\" \"ViCO_CusOrd_ID\",\n",
    "       \"T0\".\"C10\" \"Count_ViCO_LS_ID_\",\n",
    "       \"T0\".\"C11\" \"Count_ViCO_CusOrd_ID_\",\n",
    "       \"T0\".\"C12\" \"Count_VICOrdLin_LineId_\",\n",
    "       \"T0\".\"C5\" \"Total_VICOrdLin_VolumeTotal_\",\n",
    "       \"T0\".\"C7\" \"Total_VICOrdLin_QtyShip_\",\n",
    "       \"T0\".\"C7\" \"VICOrdLin_QtyPick\"\n",
    "FROM\n",
    "  (SELECT CASE\n",
    "              WHEN to_char(\"R08T1\".\"OPPDATE\", 'DDMMYYYY') IS NULL\n",
    "                   OR trim(BOTH\n",
    "                           FROM \"R08T1\".\"ROUTENO\") IS NULL\n",
    "                   OR trim(BOTH\n",
    "                           FROM \"R08T1\".\"TRIPNO\") IS NULL THEN NULL\n",
    "              ELSE to_char(\"R08T1\".\"OPPDATE\", 'DDMMYYYY') || '-' || trim(BOTH\n",
    "                                                                         FROM \"R08T1\".\"ROUTENO\") || '-' || trim(BOTH\n",
    "                                                                                                                FROM \"R08T1\".\"TRIPNO\")\n",
    "          END \"C0\",\n",
    "          CASE\n",
    "              WHEN \"O04T90\".\"RCVBUCOD\" IN ('857',\n",
    "                                           '801') THEN 'POST'\n",
    "              ELSE 'LSC'\n",
    "          END \"C1\",\n",
    "          TRUNC(cast(\"O04T14\".\"STATDATE\" AS TIMESTAMP(9))) \"C2\",\n",
    "          trim(BOTH\n",
    "               FROM to_char(\"O08T15\".\"ORDLINE\")) \"C3\",\n",
    "          sum(\"O08T15\".\"CALCVOL\"/1000) \"C4\",\n",
    "          sum(\"O08T15\".\"REALVOL\"/1000) \"C5\",\n",
    "          \"O08T15\".\"STATDATE\" \"C6\",\n",
    "          sum(\"O08T15\".\"DELQUANT\") \"C7\",\n",
    "          \"O04T90\".\"RCVBUCOD\" \"C8\",\n",
    "          \"O04T14\".\"EORDERID\" \"C9\",\n",
    "          min(CASE\n",
    "                  WHEN to_char(\"R08T1\".\"OPPDATE\", 'DDMMYYYY') IS NULL\n",
    "                       OR trim(BOTH\n",
    "                               FROM \"R08T1\".\"ROUTENO\") IS NULL\n",
    "                       OR trim(BOTH\n",
    "                               FROM \"R08T1\".\"TRIPNO\") IS NULL THEN NULL\n",
    "                  ELSE to_char(\"R08T1\".\"OPPDATE\", 'DDMMYYYY') || '-' || trim(BOTH\n",
    "                                                                             FROM \"R08T1\".\"ROUTENO\") || '-' || trim(BOTH\n",
    "                                                                                                                    FROM \"R08T1\".\"TRIPNO\")\n",
    "              END) \"C10\",\n",
    "          min(\"O04T14\".\"EORDERID\") \"C11\",\n",
    "          min(trim(BOTH\n",
    "                   FROM to_char(\"O08T15\".\"ORDLINE\"))) \"C12\"\n",
    "   FROM \"R08T1\" \"R08T1\",\n",
    "        \"O04T90\" \"O04T90\",\n",
    "        \"O04T14\",\n",
    "        \"O08T15\"\n",
    "   WHERE CASE\n",
    "             WHEN (\"O08T15\".\"LINESTAT\"=1) THEN 10\n",
    "             WHEN (\"O08T15\".\"LINESTAT\"=22) THEN 20\n",
    "             WHEN (\"O08T15\".\"LINESTAT\"=2) THEN 30\n",
    "             WHEN (\"O08T15\".\"LINESTAT\"=7) THEN 50\n",
    "             WHEN (\"O08T15\".\"LINESTAT\"=0) THEN 99\n",
    "             ELSE NULL\n",
    "         END ='50'\n",
    "     AND TRUNC(cast(\"O04T14\".\"STATDATE\" AS TIMESTAMP(9))) BETWEEN TRUNC(cast(:PQ1 AS TIMESTAMP(9))) AND TRUNC(cast(:PQ2 AS TIMESTAMP(9)))\n",
    "     AND CASE\n",
    "             WHEN (\"O04T14\".\"ORDSTAT\"=1) THEN 10\n",
    "             WHEN (\"O04T14\".\"ORDSTAT\"=22) THEN 20\n",
    "             WHEN (\"O04T14\".\"ORDSTAT\"=2) THEN 30\n",
    "             WHEN (\"O04T14\".\"ORDSTAT\"=7) THEN 40\n",
    "             WHEN (\"O04T14\".\"ORDSTAT\"=9) THEN 50\n",
    "             WHEN (\"O04T14\".\"ORDSTAT\"=0) THEN 99\n",
    "             ELSE NULL\n",
    "         END ='50'\n",
    "     AND \"O08T15\".\"SHORTR08\"=\"R08T1\".\"SHORTR08\"\n",
    "     AND \"O08T15\".\"SHORTO04\"=\"O04T14\".\"SHORTO04\"\n",
    "     AND \"O04T14\".\"SHORTO04\"=\"O04T90\".\"SHORTO04\"\n",
    "   GROUP BY CASE\n",
    "                WHEN to_char(\"R08T1\".\"OPPDATE\", 'DDMMYYYY') IS NULL\n",
    "                     OR trim(BOTH\n",
    "                             FROM \"R08T1\".\"ROUTENO\") IS NULL\n",
    "                     OR trim(BOTH\n",
    "                             FROM \"R08T1\".\"TRIPNO\") IS NULL THEN NULL\n",
    "                ELSE to_char(\"R08T1\".\"OPPDATE\", 'DDMMYYYY') || '-' || trim(BOTH\n",
    "                                                                           FROM \"R08T1\".\"ROUTENO\") || '-' || trim(BOTH\n",
    "                                                                                                                  FROM \"R08T1\".\"TRIPNO\")\n",
    "            END,\n",
    "            CASE\n",
    "                WHEN \"O04T90\".\"RCVBUCOD\" IN ('857',\n",
    "                                             '801') THEN 'POST'\n",
    "                ELSE 'LSC'\n",
    "            END,\n",
    "            TRUNC(cast(\"O04T14\".\"STATDATE\" AS TIMESTAMP(9))),\n",
    "            trim(BOTH\n",
    "                 FROM to_char(\"O08T15\".\"ORDLINE\")),\n",
    "            \"O08T15\".\"STATDATE\",\n",
    "            \"O04T90\".\"RCVBUCOD\",\n",
    "            \"O04T14\".\"EORDERID\") \"T0\"\n",
    "\"\"\""
   ]
  },
  {
   "cell_type": "code",
   "execution_count": 52,
   "metadata": {},
   "outputs": [],
   "source": [
    "\n",
    "import re\n",
    "\n",
    "pattern = r'\"[^\"]*\"\\.'\n",
    "\n",
    "# Ersetzen\n",
    "result = re.sub(pattern, '', query)"
   ]
  },
  {
   "cell_type": "code",
   "execution_count": 53,
   "metadata": {},
   "outputs": [],
   "source": [
    "# print(result)"
   ]
  },
  {
   "cell_type": "code",
   "execution_count": 54,
   "metadata": {},
   "outputs": [],
   "source": [
    "parser = Parser(query)"
   ]
  },
  {
   "cell_type": "code",
   "execution_count": 55,
   "metadata": {},
   "outputs": [
    {
     "data": {
      "text/plain": [
       "['R08T1.ROUTENO',\n",
       " 'BOTH',\n",
       " 'R08T1.TRIPNO',\n",
       " 'R08T1.OPPDATE',\n",
       " 'CASE',\n",
       " 'TRUNC',\n",
       " 'cast',\n",
       " 'O04T14.STATDATE',\n",
       " 'trim',\n",
       " 'to_char',\n",
       " 'O08T15.ORDLINE',\n",
       " 'sum',\n",
       " 'O08T15.CALCVOL',\n",
       " 'O08T15.REALVOL',\n",
       " 'O08T15.STATDATE',\n",
       " 'O08T15.DELQUANT',\n",
       " 'O04T90.RCVBUCOD',\n",
       " 'O04T14.EORDERID',\n",
       " 'min',\n",
       " 'R08T1',\n",
       " 'O04T90',\n",
       " 'O04T14',\n",
       " 'O08T15']"
      ]
     },
     "execution_count": 55,
     "metadata": {},
     "output_type": "execute_result"
    }
   ],
   "source": [
    "parser.tables"
   ]
  },
  {
   "cell_type": "code",
   "execution_count": 56,
   "metadata": {},
   "outputs": [
    {
     "ename": "ValueError",
     "evalue": "'C0' is not in list",
     "output_type": "error",
     "traceback": [
      "\u001b[1;31m---------------------------------------------------------------------------\u001b[0m",
      "\u001b[1;31mValueError\u001b[0m                                Traceback (most recent call last)",
      "Cell \u001b[1;32mIn[56], line 1\u001b[0m\n\u001b[1;32m----> 1\u001b[0m \u001b[43mparser\u001b[49m\u001b[38;5;241;43m.\u001b[39;49m\u001b[43mcolumns\u001b[49m\n",
      "File \u001b[1;32mc:\\Users\\mafane\\AppData\\Local\\Programs\\Python\\Python313\\Lib\\site-packages\\sql_metadata\\parser.py:219\u001b[0m, in \u001b[0;36mParser.columns\u001b[1;34m(self)\u001b[0m\n\u001b[0;32m    203\u001b[0m     columns\u001b[38;5;241m.\u001b[39mappend(token\u001b[38;5;241m.\u001b[39mvalue)\n\u001b[0;32m    204\u001b[0m \u001b[38;5;28;01melif\u001b[39;00m (\n\u001b[0;32m    205\u001b[0m     token\u001b[38;5;241m.\u001b[39mis_potential_column_name\n\u001b[0;32m    206\u001b[0m     \u001b[38;5;129;01mand\u001b[39;00m token\u001b[38;5;241m.\u001b[39mis_not_an_alias_or_is_self_alias_outside_of_subquery(\n\u001b[1;32m   (...)\u001b[0m\n\u001b[0;32m    217\u001b[0m     \u001b[38;5;129;01mand\u001b[39;00m \u001b[38;5;129;01mnot\u001b[39;00m token\u001b[38;5;241m.\u001b[39mis_conversion_specifier\n\u001b[0;32m    218\u001b[0m ):\n\u001b[1;32m--> 219\u001b[0m     \u001b[38;5;28;43mself\u001b[39;49m\u001b[38;5;241;43m.\u001b[39;49m\u001b[43m_handle_column_save\u001b[49m\u001b[43m(\u001b[49m\u001b[43mtoken\u001b[49m\u001b[38;5;241;43m=\u001b[39;49m\u001b[43mtoken\u001b[49m\u001b[43m,\u001b[49m\u001b[43m \u001b[49m\u001b[43mcolumns\u001b[49m\u001b[38;5;241;43m=\u001b[39;49m\u001b[43mcolumns\u001b[49m\u001b[43m)\u001b[49m\n\u001b[0;32m    221\u001b[0m \u001b[38;5;28;01melif\u001b[39;00m token\u001b[38;5;241m.\u001b[39mis_column_name_inside_insert_clause:\n\u001b[0;32m    222\u001b[0m     column \u001b[38;5;241m=\u001b[39m \u001b[38;5;28mstr\u001b[39m(token\u001b[38;5;241m.\u001b[39mvalue)\n",
      "File \u001b[1;32mc:\\Users\\mafane\\AppData\\Local\\Programs\\Python\\Python313\\Lib\\site-packages\\sql_metadata\\parser.py:655\u001b[0m, in \u001b[0;36mParser._handle_column_save\u001b[1;34m(self, token, columns)\u001b[0m\n\u001b[0;32m    653\u001b[0m     token\u001b[38;5;241m.\u001b[39mtoken_type \u001b[38;5;241m=\u001b[39m TokenType\u001b[38;5;241m.\u001b[39mCOLUMN_ALIAS\n\u001b[0;32m    654\u001b[0m     \u001b[38;5;28;01mreturn\u001b[39;00m\n\u001b[1;32m--> 655\u001b[0m column \u001b[38;5;241m=\u001b[39m \u001b[38;5;28;43mself\u001b[39;49m\u001b[38;5;241;43m.\u001b[39;49m\u001b[43m_resolve_sub_queries\u001b[49m\u001b[43m(\u001b[49m\u001b[43mcolumn\u001b[49m\u001b[43m)\u001b[49m\n\u001b[0;32m    656\u001b[0m \u001b[38;5;28mself\u001b[39m\u001b[38;5;241m.\u001b[39m_add_to_columns_with_tables(token, column)\n\u001b[0;32m    657\u001b[0m \u001b[38;5;28mself\u001b[39m\u001b[38;5;241m.\u001b[39m_add_to_columns_subsection(\n\u001b[0;32m    658\u001b[0m     keyword\u001b[38;5;241m=\u001b[39mtoken\u001b[38;5;241m.\u001b[39mlast_keyword_normalized, column\u001b[38;5;241m=\u001b[39mcolumn\n\u001b[0;32m    659\u001b[0m )\n",
      "File \u001b[1;32mc:\\Users\\mafane\\AppData\\Local\\Programs\\Python\\Python313\\Lib\\site-packages\\sql_metadata\\parser.py:794\u001b[0m, in \u001b[0;36mParser._resolve_sub_queries\u001b[1;34m(self, column)\u001b[0m\n\u001b[0;32m    789\u001b[0m \u001b[38;5;28;01mdef\u001b[39;00m\u001b[38;5;250m \u001b[39m\u001b[38;5;21m_resolve_sub_queries\u001b[39m(\u001b[38;5;28mself\u001b[39m, column: \u001b[38;5;28mstr\u001b[39m) \u001b[38;5;241m-\u001b[39m\u001b[38;5;241m>\u001b[39m List[\u001b[38;5;28mstr\u001b[39m]:\n\u001b[0;32m    790\u001b[0m \u001b[38;5;250m    \u001b[39m\u001b[38;5;124;03m\"\"\"\u001b[39;00m\n\u001b[0;32m    791\u001b[0m \u001b[38;5;124;03m    Resolve column names coming from sub queries and with queries to actual\u001b[39;00m\n\u001b[0;32m    792\u001b[0m \u001b[38;5;124;03m    column names as they appear in the query\u001b[39;00m\n\u001b[0;32m    793\u001b[0m \u001b[38;5;124;03m    \"\"\"\u001b[39;00m\n\u001b[1;32m--> 794\u001b[0m     column \u001b[38;5;241m=\u001b[39m \u001b[38;5;28;43mself\u001b[39;49m\u001b[38;5;241;43m.\u001b[39;49m\u001b[43m_resolve_nested_query\u001b[49m\u001b[43m(\u001b[49m\n\u001b[0;32m    795\u001b[0m \u001b[43m        \u001b[49m\u001b[43msubquery_alias\u001b[49m\u001b[38;5;241;43m=\u001b[39;49m\u001b[43mcolumn\u001b[49m\u001b[43m,\u001b[49m\n\u001b[0;32m    796\u001b[0m \u001b[43m        \u001b[49m\u001b[43mnested_queries_names\u001b[49m\u001b[38;5;241;43m=\u001b[39;49m\u001b[38;5;28;43mself\u001b[39;49m\u001b[38;5;241;43m.\u001b[39;49m\u001b[43msubqueries_names\u001b[49m\u001b[43m,\u001b[49m\n\u001b[0;32m    797\u001b[0m \u001b[43m        \u001b[49m\u001b[43mnested_queries\u001b[49m\u001b[38;5;241;43m=\u001b[39;49m\u001b[38;5;28;43mself\u001b[39;49m\u001b[38;5;241;43m.\u001b[39;49m\u001b[43msubqueries\u001b[49m\u001b[43m,\u001b[49m\n\u001b[0;32m    798\u001b[0m \u001b[43m        \u001b[49m\u001b[43malready_parsed\u001b[49m\u001b[38;5;241;43m=\u001b[39;49m\u001b[38;5;28;43mself\u001b[39;49m\u001b[38;5;241;43m.\u001b[39;49m\u001b[43m_subqueries_parsers\u001b[49m\u001b[43m,\u001b[49m\n\u001b[0;32m    799\u001b[0m \u001b[43m    \u001b[49m\u001b[43m)\u001b[49m\n\u001b[0;32m    800\u001b[0m     \u001b[38;5;28;01mif\u001b[39;00m \u001b[38;5;28misinstance\u001b[39m(column, \u001b[38;5;28mstr\u001b[39m):\n\u001b[0;32m    801\u001b[0m         column \u001b[38;5;241m=\u001b[39m \u001b[38;5;28mself\u001b[39m\u001b[38;5;241m.\u001b[39m_resolve_nested_query(\n\u001b[0;32m    802\u001b[0m             subquery_alias\u001b[38;5;241m=\u001b[39mcolumn,\n\u001b[0;32m    803\u001b[0m             nested_queries_names\u001b[38;5;241m=\u001b[39m\u001b[38;5;28mself\u001b[39m\u001b[38;5;241m.\u001b[39mwith_names,\n\u001b[0;32m    804\u001b[0m             nested_queries\u001b[38;5;241m=\u001b[39m\u001b[38;5;28mself\u001b[39m\u001b[38;5;241m.\u001b[39mwith_queries,\n\u001b[0;32m    805\u001b[0m             already_parsed\u001b[38;5;241m=\u001b[39m\u001b[38;5;28mself\u001b[39m\u001b[38;5;241m.\u001b[39m_with_parsers,\n\u001b[0;32m    806\u001b[0m         )\n",
      "File \u001b[1;32mc:\\Users\\mafane\\AppData\\Local\\Programs\\Python\\Python313\\Lib\\site-packages\\sql_metadata\\parser.py:850\u001b[0m, in \u001b[0;36mParser._resolve_nested_query\u001b[1;34m(subquery_alias, nested_queries_names, nested_queries, already_parsed)\u001b[0m\n\u001b[0;32m    848\u001b[0m         \u001b[38;5;28;01mif\u001b[39;00m \u001b[38;5;124mf\u001b[39m\u001b[38;5;124m\"\u001b[39m\u001b[38;5;132;01m{\u001b[39;00mtable\u001b[38;5;132;01m}\u001b[39;00m\u001b[38;5;124m.*\u001b[39m\u001b[38;5;124m\"\u001b[39m \u001b[38;5;129;01min\u001b[39;00m subparser\u001b[38;5;241m.\u001b[39mcolumns:\n\u001b[0;32m    849\u001b[0m             \u001b[38;5;28;01mreturn\u001b[39;00m column_name\n\u001b[1;32m--> 850\u001b[0m     \u001b[38;5;28;01mraise\u001b[39;00m exc  \u001b[38;5;66;03m# pragma: no cover\u001b[39;00m\n\u001b[0;32m    851\u001b[0m resolved_column \u001b[38;5;241m=\u001b[39m subparser\u001b[38;5;241m.\u001b[39mcolumns[column_index]\n\u001b[0;32m    852\u001b[0m \u001b[38;5;28;01mreturn\u001b[39;00m [resolved_column]\n",
      "File \u001b[1;32mc:\\Users\\mafane\\AppData\\Local\\Programs\\Python\\Python313\\Lib\\site-packages\\sql_metadata\\parser.py:840\u001b[0m, in \u001b[0;36mParser._resolve_nested_query\u001b[1;34m(subquery_alias, nested_queries_names, nested_queries, already_parsed)\u001b[0m\n\u001b[0;32m    838\u001b[0m     \u001b[38;5;28;01mreturn\u001b[39;00m subparser\u001b[38;5;241m.\u001b[39mcolumns\n\u001b[0;32m    839\u001b[0m \u001b[38;5;28;01mtry\u001b[39;00m:\n\u001b[1;32m--> 840\u001b[0m     column_index \u001b[38;5;241m=\u001b[39m \u001b[43m[\u001b[49m\u001b[43mx\u001b[49m\u001b[38;5;241;43m.\u001b[39;49m\u001b[43msplit\u001b[49m\u001b[43m(\u001b[49m\u001b[38;5;124;43m\"\u001b[39;49m\u001b[38;5;124;43m.\u001b[39;49m\u001b[38;5;124;43m\"\u001b[39;49m\u001b[43m)\u001b[49m\u001b[43m[\u001b[49m\u001b[38;5;241;43m-\u001b[39;49m\u001b[38;5;241;43m1\u001b[39;49m\u001b[43m]\u001b[49m\u001b[43m \u001b[49m\u001b[38;5;28;43;01mfor\u001b[39;49;00m\u001b[43m \u001b[49m\u001b[43mx\u001b[49m\u001b[43m \u001b[49m\u001b[38;5;129;43;01min\u001b[39;49;00m\u001b[43m \u001b[49m\u001b[43msubparser\u001b[49m\u001b[38;5;241;43m.\u001b[39;49m\u001b[43mcolumns\u001b[49m\u001b[43m]\u001b[49m\u001b[38;5;241;43m.\u001b[39;49m\u001b[43mindex\u001b[49m\u001b[43m(\u001b[49m\n\u001b[0;32m    841\u001b[0m \u001b[43m        \u001b[49m\u001b[43mcolumn_name\u001b[49m\n\u001b[0;32m    842\u001b[0m \u001b[43m    \u001b[49m\u001b[43m)\u001b[49m\n\u001b[0;32m    843\u001b[0m \u001b[38;5;28;01mexcept\u001b[39;00m \u001b[38;5;167;01mValueError\u001b[39;00m \u001b[38;5;28;01mas\u001b[39;00m exc:\n\u001b[0;32m    844\u001b[0m     \u001b[38;5;66;03m# handle case when column name is used but subquery select all by wildcard\u001b[39;00m\n\u001b[0;32m    845\u001b[0m     \u001b[38;5;28;01mif\u001b[39;00m \u001b[38;5;124m\"\u001b[39m\u001b[38;5;124m*\u001b[39m\u001b[38;5;124m\"\u001b[39m \u001b[38;5;129;01min\u001b[39;00m subparser\u001b[38;5;241m.\u001b[39mcolumns:\n",
      "\u001b[1;31mValueError\u001b[0m: 'C0' is not in list"
     ]
    }
   ],
   "source": [
    "parser.columns"
   ]
  },
  {
   "cell_type": "code",
   "execution_count": 57,
   "metadata": {},
   "outputs": [
    {
     "ename": "ValueError",
     "evalue": "'C0' is not in list",
     "output_type": "error",
     "traceback": [
      "\u001b[1;31m---------------------------------------------------------------------------\u001b[0m",
      "\u001b[1;31mValueError\u001b[0m                                Traceback (most recent call last)",
      "Cell \u001b[1;32mIn[57], line 1\u001b[0m\n\u001b[1;32m----> 1\u001b[0m \u001b[43mparser\u001b[49m\u001b[38;5;241;43m.\u001b[39;49m\u001b[43mcolumns_aliases\u001b[49m\n",
      "File \u001b[1;32mc:\\Users\\mafane\\AppData\\Local\\Programs\\Python\\Python313\\Lib\\site-packages\\sql_metadata\\parser.py:267\u001b[0m, in \u001b[0;36mParser.columns_aliases\u001b[1;34m(self)\u001b[0m\n\u001b[0;32m    265\u001b[0m     \u001b[38;5;28;01mreturn\u001b[39;00m \u001b[38;5;28mself\u001b[39m\u001b[38;5;241m.\u001b[39m_columns_aliases\n\u001b[0;32m    266\u001b[0m column_aliases \u001b[38;5;241m=\u001b[39m {}\n\u001b[1;32m--> 267\u001b[0m _ \u001b[38;5;241m=\u001b[39m \u001b[38;5;28;43mself\u001b[39;49m\u001b[38;5;241;43m.\u001b[39;49m\u001b[43mcolumns\u001b[49m\n\u001b[0;32m    268\u001b[0m \u001b[38;5;28mself\u001b[39m\u001b[38;5;241m.\u001b[39m_aliases_to_check \u001b[38;5;241m=\u001b[39m (\n\u001b[0;32m    269\u001b[0m     \u001b[38;5;28mlist\u001b[39m(\u001b[38;5;28mself\u001b[39m\u001b[38;5;241m.\u001b[39m_columns_with_tables_aliases\u001b[38;5;241m.\u001b[39mkeys())\n\u001b[0;32m    270\u001b[0m     \u001b[38;5;241m+\u001b[39m \u001b[38;5;28mself\u001b[39m\u001b[38;5;241m.\u001b[39mcolumns_aliases_names\n\u001b[0;32m    271\u001b[0m     \u001b[38;5;241m+\u001b[39m [\u001b[38;5;124m\"\u001b[39m\u001b[38;5;124m*\u001b[39m\u001b[38;5;124m\"\u001b[39m]\n\u001b[0;32m    272\u001b[0m )\n\u001b[0;32m    273\u001b[0m \u001b[38;5;28;01mfor\u001b[39;00m token \u001b[38;5;129;01min\u001b[39;00m \u001b[38;5;28mself\u001b[39m\u001b[38;5;241m.\u001b[39mtokens:\n",
      "File \u001b[1;32mc:\\Users\\mafane\\AppData\\Local\\Programs\\Python\\Python313\\Lib\\site-packages\\sql_metadata\\parser.py:219\u001b[0m, in \u001b[0;36mParser.columns\u001b[1;34m(self)\u001b[0m\n\u001b[0;32m    203\u001b[0m     columns\u001b[38;5;241m.\u001b[39mappend(token\u001b[38;5;241m.\u001b[39mvalue)\n\u001b[0;32m    204\u001b[0m \u001b[38;5;28;01melif\u001b[39;00m (\n\u001b[0;32m    205\u001b[0m     token\u001b[38;5;241m.\u001b[39mis_potential_column_name\n\u001b[0;32m    206\u001b[0m     \u001b[38;5;129;01mand\u001b[39;00m token\u001b[38;5;241m.\u001b[39mis_not_an_alias_or_is_self_alias_outside_of_subquery(\n\u001b[1;32m   (...)\u001b[0m\n\u001b[0;32m    217\u001b[0m     \u001b[38;5;129;01mand\u001b[39;00m \u001b[38;5;129;01mnot\u001b[39;00m token\u001b[38;5;241m.\u001b[39mis_conversion_specifier\n\u001b[0;32m    218\u001b[0m ):\n\u001b[1;32m--> 219\u001b[0m     \u001b[38;5;28;43mself\u001b[39;49m\u001b[38;5;241;43m.\u001b[39;49m\u001b[43m_handle_column_save\u001b[49m\u001b[43m(\u001b[49m\u001b[43mtoken\u001b[49m\u001b[38;5;241;43m=\u001b[39;49m\u001b[43mtoken\u001b[49m\u001b[43m,\u001b[49m\u001b[43m \u001b[49m\u001b[43mcolumns\u001b[49m\u001b[38;5;241;43m=\u001b[39;49m\u001b[43mcolumns\u001b[49m\u001b[43m)\u001b[49m\n\u001b[0;32m    221\u001b[0m \u001b[38;5;28;01melif\u001b[39;00m token\u001b[38;5;241m.\u001b[39mis_column_name_inside_insert_clause:\n\u001b[0;32m    222\u001b[0m     column \u001b[38;5;241m=\u001b[39m \u001b[38;5;28mstr\u001b[39m(token\u001b[38;5;241m.\u001b[39mvalue)\n",
      "File \u001b[1;32mc:\\Users\\mafane\\AppData\\Local\\Programs\\Python\\Python313\\Lib\\site-packages\\sql_metadata\\parser.py:655\u001b[0m, in \u001b[0;36mParser._handle_column_save\u001b[1;34m(self, token, columns)\u001b[0m\n\u001b[0;32m    653\u001b[0m     token\u001b[38;5;241m.\u001b[39mtoken_type \u001b[38;5;241m=\u001b[39m TokenType\u001b[38;5;241m.\u001b[39mCOLUMN_ALIAS\n\u001b[0;32m    654\u001b[0m     \u001b[38;5;28;01mreturn\u001b[39;00m\n\u001b[1;32m--> 655\u001b[0m column \u001b[38;5;241m=\u001b[39m \u001b[38;5;28;43mself\u001b[39;49m\u001b[38;5;241;43m.\u001b[39;49m\u001b[43m_resolve_sub_queries\u001b[49m\u001b[43m(\u001b[49m\u001b[43mcolumn\u001b[49m\u001b[43m)\u001b[49m\n\u001b[0;32m    656\u001b[0m \u001b[38;5;28mself\u001b[39m\u001b[38;5;241m.\u001b[39m_add_to_columns_with_tables(token, column)\n\u001b[0;32m    657\u001b[0m \u001b[38;5;28mself\u001b[39m\u001b[38;5;241m.\u001b[39m_add_to_columns_subsection(\n\u001b[0;32m    658\u001b[0m     keyword\u001b[38;5;241m=\u001b[39mtoken\u001b[38;5;241m.\u001b[39mlast_keyword_normalized, column\u001b[38;5;241m=\u001b[39mcolumn\n\u001b[0;32m    659\u001b[0m )\n",
      "File \u001b[1;32mc:\\Users\\mafane\\AppData\\Local\\Programs\\Python\\Python313\\Lib\\site-packages\\sql_metadata\\parser.py:794\u001b[0m, in \u001b[0;36mParser._resolve_sub_queries\u001b[1;34m(self, column)\u001b[0m\n\u001b[0;32m    789\u001b[0m \u001b[38;5;28;01mdef\u001b[39;00m\u001b[38;5;250m \u001b[39m\u001b[38;5;21m_resolve_sub_queries\u001b[39m(\u001b[38;5;28mself\u001b[39m, column: \u001b[38;5;28mstr\u001b[39m) \u001b[38;5;241m-\u001b[39m\u001b[38;5;241m>\u001b[39m List[\u001b[38;5;28mstr\u001b[39m]:\n\u001b[0;32m    790\u001b[0m \u001b[38;5;250m    \u001b[39m\u001b[38;5;124;03m\"\"\"\u001b[39;00m\n\u001b[0;32m    791\u001b[0m \u001b[38;5;124;03m    Resolve column names coming from sub queries and with queries to actual\u001b[39;00m\n\u001b[0;32m    792\u001b[0m \u001b[38;5;124;03m    column names as they appear in the query\u001b[39;00m\n\u001b[0;32m    793\u001b[0m \u001b[38;5;124;03m    \"\"\"\u001b[39;00m\n\u001b[1;32m--> 794\u001b[0m     column \u001b[38;5;241m=\u001b[39m \u001b[38;5;28;43mself\u001b[39;49m\u001b[38;5;241;43m.\u001b[39;49m\u001b[43m_resolve_nested_query\u001b[49m\u001b[43m(\u001b[49m\n\u001b[0;32m    795\u001b[0m \u001b[43m        \u001b[49m\u001b[43msubquery_alias\u001b[49m\u001b[38;5;241;43m=\u001b[39;49m\u001b[43mcolumn\u001b[49m\u001b[43m,\u001b[49m\n\u001b[0;32m    796\u001b[0m \u001b[43m        \u001b[49m\u001b[43mnested_queries_names\u001b[49m\u001b[38;5;241;43m=\u001b[39;49m\u001b[38;5;28;43mself\u001b[39;49m\u001b[38;5;241;43m.\u001b[39;49m\u001b[43msubqueries_names\u001b[49m\u001b[43m,\u001b[49m\n\u001b[0;32m    797\u001b[0m \u001b[43m        \u001b[49m\u001b[43mnested_queries\u001b[49m\u001b[38;5;241;43m=\u001b[39;49m\u001b[38;5;28;43mself\u001b[39;49m\u001b[38;5;241;43m.\u001b[39;49m\u001b[43msubqueries\u001b[49m\u001b[43m,\u001b[49m\n\u001b[0;32m    798\u001b[0m \u001b[43m        \u001b[49m\u001b[43malready_parsed\u001b[49m\u001b[38;5;241;43m=\u001b[39;49m\u001b[38;5;28;43mself\u001b[39;49m\u001b[38;5;241;43m.\u001b[39;49m\u001b[43m_subqueries_parsers\u001b[49m\u001b[43m,\u001b[49m\n\u001b[0;32m    799\u001b[0m \u001b[43m    \u001b[49m\u001b[43m)\u001b[49m\n\u001b[0;32m    800\u001b[0m     \u001b[38;5;28;01mif\u001b[39;00m \u001b[38;5;28misinstance\u001b[39m(column, \u001b[38;5;28mstr\u001b[39m):\n\u001b[0;32m    801\u001b[0m         column \u001b[38;5;241m=\u001b[39m \u001b[38;5;28mself\u001b[39m\u001b[38;5;241m.\u001b[39m_resolve_nested_query(\n\u001b[0;32m    802\u001b[0m             subquery_alias\u001b[38;5;241m=\u001b[39mcolumn,\n\u001b[0;32m    803\u001b[0m             nested_queries_names\u001b[38;5;241m=\u001b[39m\u001b[38;5;28mself\u001b[39m\u001b[38;5;241m.\u001b[39mwith_names,\n\u001b[0;32m    804\u001b[0m             nested_queries\u001b[38;5;241m=\u001b[39m\u001b[38;5;28mself\u001b[39m\u001b[38;5;241m.\u001b[39mwith_queries,\n\u001b[0;32m    805\u001b[0m             already_parsed\u001b[38;5;241m=\u001b[39m\u001b[38;5;28mself\u001b[39m\u001b[38;5;241m.\u001b[39m_with_parsers,\n\u001b[0;32m    806\u001b[0m         )\n",
      "File \u001b[1;32mc:\\Users\\mafane\\AppData\\Local\\Programs\\Python\\Python313\\Lib\\site-packages\\sql_metadata\\parser.py:850\u001b[0m, in \u001b[0;36mParser._resolve_nested_query\u001b[1;34m(subquery_alias, nested_queries_names, nested_queries, already_parsed)\u001b[0m\n\u001b[0;32m    848\u001b[0m         \u001b[38;5;28;01mif\u001b[39;00m \u001b[38;5;124mf\u001b[39m\u001b[38;5;124m\"\u001b[39m\u001b[38;5;132;01m{\u001b[39;00mtable\u001b[38;5;132;01m}\u001b[39;00m\u001b[38;5;124m.*\u001b[39m\u001b[38;5;124m\"\u001b[39m \u001b[38;5;129;01min\u001b[39;00m subparser\u001b[38;5;241m.\u001b[39mcolumns:\n\u001b[0;32m    849\u001b[0m             \u001b[38;5;28;01mreturn\u001b[39;00m column_name\n\u001b[1;32m--> 850\u001b[0m     \u001b[38;5;28;01mraise\u001b[39;00m exc  \u001b[38;5;66;03m# pragma: no cover\u001b[39;00m\n\u001b[0;32m    851\u001b[0m resolved_column \u001b[38;5;241m=\u001b[39m subparser\u001b[38;5;241m.\u001b[39mcolumns[column_index]\n\u001b[0;32m    852\u001b[0m \u001b[38;5;28;01mreturn\u001b[39;00m [resolved_column]\n",
      "File \u001b[1;32mc:\\Users\\mafane\\AppData\\Local\\Programs\\Python\\Python313\\Lib\\site-packages\\sql_metadata\\parser.py:840\u001b[0m, in \u001b[0;36mParser._resolve_nested_query\u001b[1;34m(subquery_alias, nested_queries_names, nested_queries, already_parsed)\u001b[0m\n\u001b[0;32m    838\u001b[0m     \u001b[38;5;28;01mreturn\u001b[39;00m subparser\u001b[38;5;241m.\u001b[39mcolumns\n\u001b[0;32m    839\u001b[0m \u001b[38;5;28;01mtry\u001b[39;00m:\n\u001b[1;32m--> 840\u001b[0m     column_index \u001b[38;5;241m=\u001b[39m \u001b[43m[\u001b[49m\u001b[43mx\u001b[49m\u001b[38;5;241;43m.\u001b[39;49m\u001b[43msplit\u001b[49m\u001b[43m(\u001b[49m\u001b[38;5;124;43m\"\u001b[39;49m\u001b[38;5;124;43m.\u001b[39;49m\u001b[38;5;124;43m\"\u001b[39;49m\u001b[43m)\u001b[49m\u001b[43m[\u001b[49m\u001b[38;5;241;43m-\u001b[39;49m\u001b[38;5;241;43m1\u001b[39;49m\u001b[43m]\u001b[49m\u001b[43m \u001b[49m\u001b[38;5;28;43;01mfor\u001b[39;49;00m\u001b[43m \u001b[49m\u001b[43mx\u001b[49m\u001b[43m \u001b[49m\u001b[38;5;129;43;01min\u001b[39;49;00m\u001b[43m \u001b[49m\u001b[43msubparser\u001b[49m\u001b[38;5;241;43m.\u001b[39;49m\u001b[43mcolumns\u001b[49m\u001b[43m]\u001b[49m\u001b[38;5;241;43m.\u001b[39;49m\u001b[43mindex\u001b[49m\u001b[43m(\u001b[49m\n\u001b[0;32m    841\u001b[0m \u001b[43m        \u001b[49m\u001b[43mcolumn_name\u001b[49m\n\u001b[0;32m    842\u001b[0m \u001b[43m    \u001b[49m\u001b[43m)\u001b[49m\n\u001b[0;32m    843\u001b[0m \u001b[38;5;28;01mexcept\u001b[39;00m \u001b[38;5;167;01mValueError\u001b[39;00m \u001b[38;5;28;01mas\u001b[39;00m exc:\n\u001b[0;32m    844\u001b[0m     \u001b[38;5;66;03m# handle case when column name is used but subquery select all by wildcard\u001b[39;00m\n\u001b[0;32m    845\u001b[0m     \u001b[38;5;28;01mif\u001b[39;00m \u001b[38;5;124m\"\u001b[39m\u001b[38;5;124m*\u001b[39m\u001b[38;5;124m\"\u001b[39m \u001b[38;5;129;01min\u001b[39;00m subparser\u001b[38;5;241m.\u001b[39mcolumns:\n",
      "\u001b[1;31mValueError\u001b[0m: 'C0' is not in list"
     ]
    }
   ],
   "source": [
    "parser.columns_aliases"
   ]
  },
  {
   "cell_type": "code",
   "execution_count": 58,
   "metadata": {},
   "outputs": [
    {
     "data": {
      "text/plain": [
       "[<Newline ' ' at 0x23A8340FFA0>,\n",
       " <DML 'SELECT' at 0x23A8340FA00>,\n",
       " <Whitespace ' ' at 0x23A8340F580>,\n",
       " <IdentifierList '`T0`.`...' at 0x23A836B8FD0>,\n",
       " <Newline ' ' at 0x23A83665CC0>,\n",
       " <Keyword 'FROM' at 0x23A83665BA0>,\n",
       " <Newline ' ' at 0x23A83666200>,\n",
       " <Whitespace ' ' at 0x23A83666020>,\n",
       " <Whitespace ' ' at 0x23A83666380>,\n",
       " <Identifier '(SELEC...' at 0x23A836B8CD0>,\n",
       " <Newline ' ' at 0x23AFFD66E00>]"
      ]
     },
     "execution_count": 58,
     "metadata": {},
     "output_type": "execute_result"
    }
   ],
   "source": [
    "parser.sqlparse_tokens"
   ]
  },
  {
   "cell_type": "code",
   "execution_count": null,
   "metadata": {},
   "outputs": [],
   "source": []
  }
 ],
 "metadata": {
  "kernelspec": {
   "display_name": "Python 3",
   "language": "python",
   "name": "python3"
  },
  "language_info": {
   "codemirror_mode": {
    "name": "ipython",
    "version": 3
   },
   "file_extension": ".py",
   "mimetype": "text/x-python",
   "name": "python",
   "nbconvert_exporter": "python",
   "pygments_lexer": "ipython3",
   "version": "3.13.1"
  }
 },
 "nbformat": 4,
 "nbformat_minor": 2
}
