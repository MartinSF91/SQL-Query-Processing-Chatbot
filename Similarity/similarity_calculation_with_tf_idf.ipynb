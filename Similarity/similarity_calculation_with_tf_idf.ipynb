{
 "cells": [
  {
   "cell_type": "code",
   "execution_count": 1,
   "metadata": {},
   "outputs": [],
   "source": [
    "import sqlparse\n",
    "from sklearn.feature_extraction.text import TfidfVectorizer\n",
    "from sklearn.metrics.pairwise import cosine_similarity\n",
    "import glob\n",
    "import pandas as pd\n",
    "pd.set_option('max_colwidth', 400)\n",
    "import re\n",
    "\n",
    "import logging\n",
    "logging.basicConfig(level=logging.INFO, format='%(asctime)s - %(levelname)s - %(message)s')"
   ]
  },
  {
   "cell_type": "code",
   "execution_count": null,
   "metadata": {},
   "outputs": [],
   "source": [
    "def calculate_query_similarity_with_tf_idf():\n",
    "\n",
    "    migrated_queries = read_in_excel_files(\"../Query Processing/1_migrated_excel_queries/*.xlsx\")\n",
    "    migrated_queries_preprocessed = preprocess_query_df(migrated_queries, \"new\")\n",
    "\n",
    "    new_queries = read_in_excel_files(\"../Query Processing/2_new_excel_queries/*.xlsx\")\n",
    "    new_queries_preprocessed = preprocess_query_df(new_queries, \"new1\")\n",
    "\n",
    "    return calculate_query_similarity(migrated_queries_preprocessed, new_queries_preprocessed)"
   ]
  },
  {
   "cell_type": "code",
   "execution_count": 6,
   "metadata": {},
   "outputs": [
    {
     "name": "stderr",
     "output_type": "stream",
     "text": [
      "2025-04-04 09:21:44,343 - INFO - Successfully read 1 excel file(s) from ../Query Processing/2_new_excel_queries/*.xlsx.\n",
      "2025-04-04 09:21:44,344 - INFO - Started preprocess_query_df for new queries.\n"
     ]
    },
    {
     "ename": "KeyboardInterrupt",
     "evalue": "",
     "output_type": "error",
     "traceback": [
      "\u001b[1;31m---------------------------------------------------------------------------\u001b[0m",
      "\u001b[1;31mKeyboardInterrupt\u001b[0m                         Traceback (most recent call last)",
      "Cell \u001b[1;32mIn[6], line 1\u001b[0m\n\u001b[1;32m----> 1\u001b[0m res \u001b[38;5;241m=\u001b[39m \u001b[43mcalculate_query_similarity_with_tf_idf\u001b[49m\u001b[43m(\u001b[49m\u001b[43m)\u001b[49m\n\u001b[0;32m      2\u001b[0m res\u001b[38;5;241m.\u001b[39mto_excel(\u001b[38;5;124m\"\u001b[39m\u001b[38;5;124m./Results/similarity_report_tf_idf.xlsx\u001b[39m\u001b[38;5;124m\"\u001b[39m, index\u001b[38;5;241m=\u001b[39m\u001b[38;5;28;01mFalse\u001b[39;00m)\n",
      "Cell \u001b[1;32mIn[2], line 4\u001b[0m, in \u001b[0;36mcalculate_query_similarity_with_tf_idf\u001b[1;34m()\u001b[0m\n\u001b[0;32m      1\u001b[0m \u001b[38;5;28;01mdef\u001b[39;00m\u001b[38;5;250m \u001b[39m\u001b[38;5;21mcalculate_query_similarity_with_tf_idf\u001b[39m():\n\u001b[0;32m      3\u001b[0m     migrated_queries \u001b[38;5;241m=\u001b[39m read_in_excel_files(\u001b[38;5;124m\"\u001b[39m\u001b[38;5;124m../Query Processing/2_new_excel_queries/*.xlsx\u001b[39m\u001b[38;5;124m\"\u001b[39m)\n\u001b[1;32m----> 4\u001b[0m     migrated_queries_preprocessed \u001b[38;5;241m=\u001b[39m \u001b[43mpreprocess_query_df\u001b[49m\u001b[43m(\u001b[49m\u001b[43mmigrated_queries\u001b[49m\u001b[43m,\u001b[49m\u001b[43m \u001b[49m\u001b[38;5;124;43m\"\u001b[39;49m\u001b[38;5;124;43mnew\u001b[39;49m\u001b[38;5;124;43m\"\u001b[39;49m\u001b[43m)\u001b[49m\n\u001b[0;32m      6\u001b[0m     new_queries \u001b[38;5;241m=\u001b[39m read_in_excel_files(\u001b[38;5;124m\"\u001b[39m\u001b[38;5;124m../Query Processing/2_new_excel_queries/*.xlsx\u001b[39m\u001b[38;5;124m\"\u001b[39m)\n\u001b[0;32m      7\u001b[0m     new_queries_preprocessed \u001b[38;5;241m=\u001b[39m preprocess_query_df(new_queries, \u001b[38;5;124m\"\u001b[39m\u001b[38;5;124mnew1\u001b[39m\u001b[38;5;124m\"\u001b[39m)\n",
      "Cell \u001b[1;32mIn[4], line 22\u001b[0m, in \u001b[0;36mpreprocess_query_df\u001b[1;34m(query_df, QUERY_IDENTIFIER)\u001b[0m\n\u001b[0;32m     20\u001b[0m \u001b[38;5;28;01mfor\u001b[39;00m index, query \u001b[38;5;129;01min\u001b[39;00m \u001b[38;5;28menumerate\u001b[39m(query_df[\u001b[38;5;124m\"\u001b[39m\u001b[38;5;124mSQL\u001b[39m\u001b[38;5;124m\"\u001b[39m]):\n\u001b[0;32m     21\u001b[0m     formatted_query \u001b[38;5;241m=\u001b[39m query\u001b[38;5;241m.\u001b[39mupper()\n\u001b[1;32m---> 22\u001b[0m     formatted_query \u001b[38;5;241m=\u001b[39m \u001b[43msqlparse\u001b[49m\u001b[38;5;241;43m.\u001b[39;49m\u001b[43mformat\u001b[49m\u001b[43m(\u001b[49m\u001b[43mformatted_query\u001b[49m\u001b[43m,\u001b[49m\u001b[43m \u001b[49m\u001b[43mreindent\u001b[49m\u001b[38;5;241;43m=\u001b[39;49m\u001b[38;5;28;43;01mTrue\u001b[39;49;00m\u001b[43m,\u001b[49m\u001b[43m \u001b[49m\u001b[43mkeyword_case\u001b[49m\u001b[38;5;241;43m=\u001b[39;49m\u001b[38;5;124;43m'\u001b[39;49m\u001b[38;5;124;43mupper\u001b[39;49m\u001b[38;5;124;43m'\u001b[39;49m\u001b[43m,\u001b[49m\u001b[43m \u001b[49m\u001b[43mstrip_comments\u001b[49m\u001b[38;5;241;43m=\u001b[39;49m\u001b[38;5;28;43;01mTrue\u001b[39;49;00m\u001b[43m)\u001b[49m\u001b[38;5;241m.\u001b[39mstrip()\n\u001b[0;32m     23\u001b[0m     formatted_query \u001b[38;5;241m=\u001b[39m formatted_query\u001b[38;5;241m.\u001b[39mreplace(\u001b[38;5;124m\"\u001b[39m\u001b[38;5;124m'\u001b[39m\u001b[38;5;124m\"\u001b[39m, \u001b[38;5;124m'\u001b[39m\u001b[38;5;124m\"\u001b[39m\u001b[38;5;124m'\u001b[39m)\u001b[38;5;241m.\u001b[39mreplace(\u001b[38;5;124m\"\u001b[39m\u001b[38;5;130;01m\\n\u001b[39;00m\u001b[38;5;124m\"\u001b[39m, \u001b[38;5;124m\"\u001b[39m\u001b[38;5;124m \u001b[39m\u001b[38;5;124m\"\u001b[39m)\n\u001b[0;32m     24\u001b[0m     formatted_query \u001b[38;5;241m=\u001b[39m re\u001b[38;5;241m.\u001b[39msub(with_pattern, \u001b[38;5;124m'\u001b[39m\u001b[38;5;124mSELECT\u001b[39m\u001b[38;5;124m'\u001b[39m, formatted_query, flags\u001b[38;5;241m=\u001b[39mre\u001b[38;5;241m.\u001b[39mDOTALL)\n",
      "File \u001b[1;32mc:\\Users\\mafane\\AppData\\Local\\Programs\\Python\\Python313\\Lib\\site-packages\\sqlparse\\__init__.py:59\u001b[0m, in \u001b[0;36mformat\u001b[1;34m(sql, encoding, **options)\u001b[0m\n\u001b[0;32m     57\u001b[0m stack \u001b[38;5;241m=\u001b[39m formatter\u001b[38;5;241m.\u001b[39mbuild_filter_stack(stack, options)\n\u001b[0;32m     58\u001b[0m stack\u001b[38;5;241m.\u001b[39mpostprocess\u001b[38;5;241m.\u001b[39mappend(filters\u001b[38;5;241m.\u001b[39mSerializerUnicode())\n\u001b[1;32m---> 59\u001b[0m \u001b[38;5;28;01mreturn\u001b[39;00m \u001b[38;5;124;43m'\u001b[39;49m\u001b[38;5;124;43m'\u001b[39;49m\u001b[38;5;241;43m.\u001b[39;49m\u001b[43mjoin\u001b[49m\u001b[43m(\u001b[49m\u001b[43mstack\u001b[49m\u001b[38;5;241;43m.\u001b[39;49m\u001b[43mrun\u001b[49m\u001b[43m(\u001b[49m\u001b[43msql\u001b[49m\u001b[43m,\u001b[49m\u001b[43m \u001b[49m\u001b[43mencoding\u001b[49m\u001b[43m)\u001b[49m\u001b[43m)\u001b[49m\n",
      "File \u001b[1;32mc:\\Users\\mafane\\AppData\\Local\\Programs\\Python\\Python313\\Lib\\site-packages\\sqlparse\\engine\\filter_stack.py:44\u001b[0m, in \u001b[0;36mFilterStack.run\u001b[1;34m(self, sql, encoding)\u001b[0m\n\u001b[0;32m     41\u001b[0m     stmt \u001b[38;5;241m=\u001b[39m grouping\u001b[38;5;241m.\u001b[39mgroup(stmt)\n\u001b[0;32m     43\u001b[0m \u001b[38;5;28;01mfor\u001b[39;00m filter_ \u001b[38;5;129;01min\u001b[39;00m \u001b[38;5;28mself\u001b[39m\u001b[38;5;241m.\u001b[39mstmtprocess:\n\u001b[1;32m---> 44\u001b[0m     \u001b[43mfilter_\u001b[49m\u001b[38;5;241;43m.\u001b[39;49m\u001b[43mprocess\u001b[49m\u001b[43m(\u001b[49m\u001b[43mstmt\u001b[49m\u001b[43m)\u001b[49m\n\u001b[0;32m     46\u001b[0m \u001b[38;5;28;01mfor\u001b[39;00m filter_ \u001b[38;5;129;01min\u001b[39;00m \u001b[38;5;28mself\u001b[39m\u001b[38;5;241m.\u001b[39mpostprocess:\n\u001b[0;32m     47\u001b[0m     stmt \u001b[38;5;241m=\u001b[39m filter_\u001b[38;5;241m.\u001b[39mprocess(stmt)\n",
      "File \u001b[1;32mc:\\Users\\mafane\\AppData\\Local\\Programs\\Python\\Python313\\Lib\\site-packages\\sqlparse\\filters\\reindent.py:240\u001b[0m, in \u001b[0;36mReindentFilter.process\u001b[1;34m(self, stmt)\u001b[0m\n\u001b[0;32m    238\u001b[0m \u001b[38;5;28;01mdef\u001b[39;00m\u001b[38;5;250m \u001b[39m\u001b[38;5;21mprocess\u001b[39m(\u001b[38;5;28mself\u001b[39m, stmt):\n\u001b[0;32m    239\u001b[0m     \u001b[38;5;28mself\u001b[39m\u001b[38;5;241m.\u001b[39m_curr_stmt \u001b[38;5;241m=\u001b[39m stmt\n\u001b[1;32m--> 240\u001b[0m     \u001b[38;5;28;43mself\u001b[39;49m\u001b[38;5;241;43m.\u001b[39;49m\u001b[43m_process\u001b[49m\u001b[43m(\u001b[49m\u001b[43mstmt\u001b[49m\u001b[43m)\u001b[49m\n\u001b[0;32m    242\u001b[0m     \u001b[38;5;28;01mif\u001b[39;00m \u001b[38;5;28mself\u001b[39m\u001b[38;5;241m.\u001b[39m_last_stmt \u001b[38;5;129;01mis\u001b[39;00m \u001b[38;5;129;01mnot\u001b[39;00m \u001b[38;5;28;01mNone\u001b[39;00m:\n\u001b[0;32m    243\u001b[0m         nl \u001b[38;5;241m=\u001b[39m \u001b[38;5;124m'\u001b[39m\u001b[38;5;130;01m\\n\u001b[39;00m\u001b[38;5;124m'\u001b[39m \u001b[38;5;28;01mif\u001b[39;00m \u001b[38;5;28mstr\u001b[39m(\u001b[38;5;28mself\u001b[39m\u001b[38;5;241m.\u001b[39m_last_stmt)\u001b[38;5;241m.\u001b[39mendswith(\u001b[38;5;124m'\u001b[39m\u001b[38;5;130;01m\\n\u001b[39;00m\u001b[38;5;124m'\u001b[39m) \u001b[38;5;28;01melse\u001b[39;00m \u001b[38;5;124m'\u001b[39m\u001b[38;5;130;01m\\n\u001b[39;00m\u001b[38;5;130;01m\\n\u001b[39;00m\u001b[38;5;124m'\u001b[39m\n",
      "File \u001b[1;32mc:\\Users\\mafane\\AppData\\Local\\Programs\\Python\\Python313\\Lib\\site-packages\\sqlparse\\filters\\reindent.py:102\u001b[0m, in \u001b[0;36mReindentFilter._process\u001b[1;34m(self, tlist)\u001b[0m\n\u001b[0;32m    100\u001b[0m func_name \u001b[38;5;241m=\u001b[39m \u001b[38;5;124m'\u001b[39m\u001b[38;5;124m_process_\u001b[39m\u001b[38;5;132;01m{cls}\u001b[39;00m\u001b[38;5;124m'\u001b[39m\u001b[38;5;241m.\u001b[39mformat(\u001b[38;5;28mcls\u001b[39m\u001b[38;5;241m=\u001b[39m\u001b[38;5;28mtype\u001b[39m(tlist)\u001b[38;5;241m.\u001b[39m\u001b[38;5;18m__name__\u001b[39m)\n\u001b[0;32m    101\u001b[0m func \u001b[38;5;241m=\u001b[39m \u001b[38;5;28mgetattr\u001b[39m(\u001b[38;5;28mself\u001b[39m, func_name\u001b[38;5;241m.\u001b[39mlower(), \u001b[38;5;28mself\u001b[39m\u001b[38;5;241m.\u001b[39m_process_default)\n\u001b[1;32m--> 102\u001b[0m \u001b[43mfunc\u001b[49m\u001b[43m(\u001b[49m\u001b[43mtlist\u001b[49m\u001b[43m)\u001b[49m\n",
      "File \u001b[1;32mc:\\Users\\mafane\\AppData\\Local\\Programs\\Python\\Python313\\Lib\\site-packages\\sqlparse\\filters\\reindent.py:236\u001b[0m, in \u001b[0;36mReindentFilter._process_default\u001b[1;34m(self, tlist, stmts)\u001b[0m\n\u001b[0;32m    234\u001b[0m \u001b[38;5;28mself\u001b[39m\u001b[38;5;241m.\u001b[39m_split_kwds(tlist)\n\u001b[0;32m    235\u001b[0m \u001b[38;5;28;01mfor\u001b[39;00m sgroup \u001b[38;5;129;01min\u001b[39;00m tlist\u001b[38;5;241m.\u001b[39mget_sublists():\n\u001b[1;32m--> 236\u001b[0m     \u001b[38;5;28;43mself\u001b[39;49m\u001b[38;5;241;43m.\u001b[39;49m\u001b[43m_process\u001b[49m\u001b[43m(\u001b[49m\u001b[43msgroup\u001b[49m\u001b[43m)\u001b[49m\n",
      "File \u001b[1;32mc:\\Users\\mafane\\AppData\\Local\\Programs\\Python\\Python313\\Lib\\site-packages\\sqlparse\\filters\\reindent.py:102\u001b[0m, in \u001b[0;36mReindentFilter._process\u001b[1;34m(self, tlist)\u001b[0m\n\u001b[0;32m    100\u001b[0m func_name \u001b[38;5;241m=\u001b[39m \u001b[38;5;124m'\u001b[39m\u001b[38;5;124m_process_\u001b[39m\u001b[38;5;132;01m{cls}\u001b[39;00m\u001b[38;5;124m'\u001b[39m\u001b[38;5;241m.\u001b[39mformat(\u001b[38;5;28mcls\u001b[39m\u001b[38;5;241m=\u001b[39m\u001b[38;5;28mtype\u001b[39m(tlist)\u001b[38;5;241m.\u001b[39m\u001b[38;5;18m__name__\u001b[39m)\n\u001b[0;32m    101\u001b[0m func \u001b[38;5;241m=\u001b[39m \u001b[38;5;28mgetattr\u001b[39m(\u001b[38;5;28mself\u001b[39m, func_name\u001b[38;5;241m.\u001b[39mlower(), \u001b[38;5;28mself\u001b[39m\u001b[38;5;241m.\u001b[39m_process_default)\n\u001b[1;32m--> 102\u001b[0m \u001b[43mfunc\u001b[49m\u001b[43m(\u001b[49m\u001b[43mtlist\u001b[49m\u001b[43m)\u001b[49m\n",
      "File \u001b[1;32mc:\\Users\\mafane\\AppData\\Local\\Programs\\Python\\Python313\\Lib\\site-packages\\sqlparse\\filters\\reindent.py:190\u001b[0m, in \u001b[0;36mReindentFilter._process_identifierlist\u001b[1;34m(self, tlist)\u001b[0m\n\u001b[0;32m    188\u001b[0m                 tlist\u001b[38;5;241m.\u001b[39minsert_before(token, \u001b[38;5;28mself\u001b[39m\u001b[38;5;241m.\u001b[39mnl(offset\u001b[38;5;241m=\u001b[39madjust))\n\u001b[0;32m    189\u001b[0m                 position \u001b[38;5;241m=\u001b[39m \u001b[38;5;241m0\u001b[39m\n\u001b[1;32m--> 190\u001b[0m \u001b[38;5;28;43mself\u001b[39;49m\u001b[38;5;241;43m.\u001b[39;49m\u001b[43m_process_default\u001b[49m\u001b[43m(\u001b[49m\u001b[43mtlist\u001b[49m\u001b[43m)\u001b[49m\n",
      "File \u001b[1;32mc:\\Users\\mafane\\AppData\\Local\\Programs\\Python\\Python313\\Lib\\site-packages\\sqlparse\\filters\\reindent.py:236\u001b[0m, in \u001b[0;36mReindentFilter._process_default\u001b[1;34m(self, tlist, stmts)\u001b[0m\n\u001b[0;32m    234\u001b[0m \u001b[38;5;28mself\u001b[39m\u001b[38;5;241m.\u001b[39m_split_kwds(tlist)\n\u001b[0;32m    235\u001b[0m \u001b[38;5;28;01mfor\u001b[39;00m sgroup \u001b[38;5;129;01min\u001b[39;00m tlist\u001b[38;5;241m.\u001b[39mget_sublists():\n\u001b[1;32m--> 236\u001b[0m     \u001b[38;5;28;43mself\u001b[39;49m\u001b[38;5;241;43m.\u001b[39;49m\u001b[43m_process\u001b[49m\u001b[43m(\u001b[49m\u001b[43msgroup\u001b[49m\u001b[43m)\u001b[49m\n",
      "File \u001b[1;32mc:\\Users\\mafane\\AppData\\Local\\Programs\\Python\\Python313\\Lib\\site-packages\\sqlparse\\filters\\reindent.py:102\u001b[0m, in \u001b[0;36mReindentFilter._process\u001b[1;34m(self, tlist)\u001b[0m\n\u001b[0;32m    100\u001b[0m func_name \u001b[38;5;241m=\u001b[39m \u001b[38;5;124m'\u001b[39m\u001b[38;5;124m_process_\u001b[39m\u001b[38;5;132;01m{cls}\u001b[39;00m\u001b[38;5;124m'\u001b[39m\u001b[38;5;241m.\u001b[39mformat(\u001b[38;5;28mcls\u001b[39m\u001b[38;5;241m=\u001b[39m\u001b[38;5;28mtype\u001b[39m(tlist)\u001b[38;5;241m.\u001b[39m\u001b[38;5;18m__name__\u001b[39m)\n\u001b[0;32m    101\u001b[0m func \u001b[38;5;241m=\u001b[39m \u001b[38;5;28mgetattr\u001b[39m(\u001b[38;5;28mself\u001b[39m, func_name\u001b[38;5;241m.\u001b[39mlower(), \u001b[38;5;28mself\u001b[39m\u001b[38;5;241m.\u001b[39m_process_default)\n\u001b[1;32m--> 102\u001b[0m \u001b[43mfunc\u001b[49m\u001b[43m(\u001b[49m\u001b[43mtlist\u001b[49m\u001b[43m)\u001b[49m\n",
      "File \u001b[1;32mc:\\Users\\mafane\\AppData\\Local\\Programs\\Python\\Python313\\Lib\\site-packages\\sqlparse\\filters\\reindent.py:210\u001b[0m, in \u001b[0;36mReindentFilter._process_case\u001b[1;34m(self, tlist)\u001b[0m\n\u001b[0;32m    207\u001b[0m     \u001b[38;5;66;03m# Line breaks on group level are done. let's add an offset of\u001b[39;00m\n\u001b[0;32m    208\u001b[0m     \u001b[38;5;66;03m# len \"when \", \"then \", \"else \"\u001b[39;00m\n\u001b[0;32m    209\u001b[0m     \u001b[38;5;28;01mwith\u001b[39;00m offset(\u001b[38;5;28mself\u001b[39m, \u001b[38;5;28mlen\u001b[39m(\u001b[38;5;124m\"\u001b[39m\u001b[38;5;124mWHEN \u001b[39m\u001b[38;5;124m\"\u001b[39m)):\n\u001b[1;32m--> 210\u001b[0m         \u001b[38;5;28;43mself\u001b[39;49m\u001b[38;5;241;43m.\u001b[39;49m\u001b[43m_process_default\u001b[49m\u001b[43m(\u001b[49m\u001b[43mtlist\u001b[49m\u001b[43m)\u001b[49m\n\u001b[0;32m    211\u001b[0m end_idx, end \u001b[38;5;241m=\u001b[39m tlist\u001b[38;5;241m.\u001b[39mtoken_next_by(m\u001b[38;5;241m=\u001b[39msql\u001b[38;5;241m.\u001b[39mCase\u001b[38;5;241m.\u001b[39mM_CLOSE)\n\u001b[0;32m    212\u001b[0m \u001b[38;5;28;01mif\u001b[39;00m end_idx \u001b[38;5;129;01mis\u001b[39;00m \u001b[38;5;129;01mnot\u001b[39;00m \u001b[38;5;28;01mNone\u001b[39;00m \u001b[38;5;129;01mand\u001b[39;00m \u001b[38;5;129;01mnot\u001b[39;00m \u001b[38;5;28mself\u001b[39m\u001b[38;5;241m.\u001b[39mcompact:\n",
      "File \u001b[1;32mc:\\Users\\mafane\\AppData\\Local\\Programs\\Python\\Python313\\Lib\\site-packages\\sqlparse\\filters\\reindent.py:236\u001b[0m, in \u001b[0;36mReindentFilter._process_default\u001b[1;34m(self, tlist, stmts)\u001b[0m\n\u001b[0;32m    234\u001b[0m \u001b[38;5;28mself\u001b[39m\u001b[38;5;241m.\u001b[39m_split_kwds(tlist)\n\u001b[0;32m    235\u001b[0m \u001b[38;5;28;01mfor\u001b[39;00m sgroup \u001b[38;5;129;01min\u001b[39;00m tlist\u001b[38;5;241m.\u001b[39mget_sublists():\n\u001b[1;32m--> 236\u001b[0m     \u001b[38;5;28;43mself\u001b[39;49m\u001b[38;5;241;43m.\u001b[39;49m\u001b[43m_process\u001b[49m\u001b[43m(\u001b[49m\u001b[43msgroup\u001b[49m\u001b[43m)\u001b[49m\n",
      "File \u001b[1;32mc:\\Users\\mafane\\AppData\\Local\\Programs\\Python\\Python313\\Lib\\site-packages\\sqlparse\\filters\\reindent.py:102\u001b[0m, in \u001b[0;36mReindentFilter._process\u001b[1;34m(self, tlist)\u001b[0m\n\u001b[0;32m    100\u001b[0m func_name \u001b[38;5;241m=\u001b[39m \u001b[38;5;124m'\u001b[39m\u001b[38;5;124m_process_\u001b[39m\u001b[38;5;132;01m{cls}\u001b[39;00m\u001b[38;5;124m'\u001b[39m\u001b[38;5;241m.\u001b[39mformat(\u001b[38;5;28mcls\u001b[39m\u001b[38;5;241m=\u001b[39m\u001b[38;5;28mtype\u001b[39m(tlist)\u001b[38;5;241m.\u001b[39m\u001b[38;5;18m__name__\u001b[39m)\n\u001b[0;32m    101\u001b[0m func \u001b[38;5;241m=\u001b[39m \u001b[38;5;28mgetattr\u001b[39m(\u001b[38;5;28mself\u001b[39m, func_name\u001b[38;5;241m.\u001b[39mlower(), \u001b[38;5;28mself\u001b[39m\u001b[38;5;241m.\u001b[39m_process_default)\n\u001b[1;32m--> 102\u001b[0m \u001b[43mfunc\u001b[49m\u001b[43m(\u001b[49m\u001b[43mtlist\u001b[49m\u001b[43m)\u001b[49m\n",
      "File \u001b[1;32mc:\\Users\\mafane\\AppData\\Local\\Programs\\Python\\Python313\\Lib\\site-packages\\sqlparse\\filters\\reindent.py:236\u001b[0m, in \u001b[0;36mReindentFilter._process_default\u001b[1;34m(self, tlist, stmts)\u001b[0m\n\u001b[0;32m    234\u001b[0m \u001b[38;5;28mself\u001b[39m\u001b[38;5;241m.\u001b[39m_split_kwds(tlist)\n\u001b[0;32m    235\u001b[0m \u001b[38;5;28;01mfor\u001b[39;00m sgroup \u001b[38;5;129;01min\u001b[39;00m tlist\u001b[38;5;241m.\u001b[39mget_sublists():\n\u001b[1;32m--> 236\u001b[0m     \u001b[38;5;28;43mself\u001b[39;49m\u001b[38;5;241;43m.\u001b[39;49m\u001b[43m_process\u001b[49m\u001b[43m(\u001b[49m\u001b[43msgroup\u001b[49m\u001b[43m)\u001b[49m\n",
      "File \u001b[1;32mc:\\Users\\mafane\\AppData\\Local\\Programs\\Python\\Python313\\Lib\\site-packages\\sqlparse\\filters\\reindent.py:102\u001b[0m, in \u001b[0;36mReindentFilter._process\u001b[1;34m(self, tlist)\u001b[0m\n\u001b[0;32m    100\u001b[0m func_name \u001b[38;5;241m=\u001b[39m \u001b[38;5;124m'\u001b[39m\u001b[38;5;124m_process_\u001b[39m\u001b[38;5;132;01m{cls}\u001b[39;00m\u001b[38;5;124m'\u001b[39m\u001b[38;5;241m.\u001b[39mformat(\u001b[38;5;28mcls\u001b[39m\u001b[38;5;241m=\u001b[39m\u001b[38;5;28mtype\u001b[39m(tlist)\u001b[38;5;241m.\u001b[39m\u001b[38;5;18m__name__\u001b[39m)\n\u001b[0;32m    101\u001b[0m func \u001b[38;5;241m=\u001b[39m \u001b[38;5;28mgetattr\u001b[39m(\u001b[38;5;28mself\u001b[39m, func_name\u001b[38;5;241m.\u001b[39mlower(), \u001b[38;5;28mself\u001b[39m\u001b[38;5;241m.\u001b[39m_process_default)\n\u001b[1;32m--> 102\u001b[0m \u001b[43mfunc\u001b[49m\u001b[43m(\u001b[49m\u001b[43mtlist\u001b[49m\u001b[43m)\u001b[49m\n",
      "File \u001b[1;32mc:\\Users\\mafane\\AppData\\Local\\Programs\\Python\\Python313\\Lib\\site-packages\\sqlparse\\filters\\reindent.py:127\u001b[0m, in \u001b[0;36mReindentFilter._process_function\u001b[1;34m(self, tlist)\u001b[0m\n\u001b[0;32m    125\u001b[0m \u001b[38;5;28;01mdef\u001b[39;00m\u001b[38;5;250m \u001b[39m\u001b[38;5;21m_process_function\u001b[39m(\u001b[38;5;28mself\u001b[39m, tlist):\n\u001b[0;32m    126\u001b[0m     \u001b[38;5;28mself\u001b[39m\u001b[38;5;241m.\u001b[39m_last_func \u001b[38;5;241m=\u001b[39m tlist[\u001b[38;5;241m0\u001b[39m]\n\u001b[1;32m--> 127\u001b[0m     \u001b[38;5;28;43mself\u001b[39;49m\u001b[38;5;241;43m.\u001b[39;49m\u001b[43m_process_default\u001b[49m\u001b[43m(\u001b[49m\u001b[43mtlist\u001b[49m\u001b[43m)\u001b[49m\n",
      "File \u001b[1;32mc:\\Users\\mafane\\AppData\\Local\\Programs\\Python\\Python313\\Lib\\site-packages\\sqlparse\\filters\\reindent.py:236\u001b[0m, in \u001b[0;36mReindentFilter._process_default\u001b[1;34m(self, tlist, stmts)\u001b[0m\n\u001b[0;32m    234\u001b[0m \u001b[38;5;28mself\u001b[39m\u001b[38;5;241m.\u001b[39m_split_kwds(tlist)\n\u001b[0;32m    235\u001b[0m \u001b[38;5;28;01mfor\u001b[39;00m sgroup \u001b[38;5;129;01min\u001b[39;00m tlist\u001b[38;5;241m.\u001b[39mget_sublists():\n\u001b[1;32m--> 236\u001b[0m     \u001b[38;5;28;43mself\u001b[39;49m\u001b[38;5;241;43m.\u001b[39;49m\u001b[43m_process\u001b[49m\u001b[43m(\u001b[49m\u001b[43msgroup\u001b[49m\u001b[43m)\u001b[49m\n",
      "File \u001b[1;32mc:\\Users\\mafane\\AppData\\Local\\Programs\\Python\\Python313\\Lib\\site-packages\\sqlparse\\filters\\reindent.py:102\u001b[0m, in \u001b[0;36mReindentFilter._process\u001b[1;34m(self, tlist)\u001b[0m\n\u001b[0;32m    100\u001b[0m func_name \u001b[38;5;241m=\u001b[39m \u001b[38;5;124m'\u001b[39m\u001b[38;5;124m_process_\u001b[39m\u001b[38;5;132;01m{cls}\u001b[39;00m\u001b[38;5;124m'\u001b[39m\u001b[38;5;241m.\u001b[39mformat(\u001b[38;5;28mcls\u001b[39m\u001b[38;5;241m=\u001b[39m\u001b[38;5;28mtype\u001b[39m(tlist)\u001b[38;5;241m.\u001b[39m\u001b[38;5;18m__name__\u001b[39m)\n\u001b[0;32m    101\u001b[0m func \u001b[38;5;241m=\u001b[39m \u001b[38;5;28mgetattr\u001b[39m(\u001b[38;5;28mself\u001b[39m, func_name\u001b[38;5;241m.\u001b[39mlower(), \u001b[38;5;28mself\u001b[39m\u001b[38;5;241m.\u001b[39m_process_default)\n\u001b[1;32m--> 102\u001b[0m \u001b[43mfunc\u001b[49m\u001b[43m(\u001b[49m\u001b[43mtlist\u001b[49m\u001b[43m)\u001b[49m\n",
      "File \u001b[1;32mc:\\Users\\mafane\\AppData\\Local\\Programs\\Python\\Python313\\Lib\\site-packages\\sqlparse\\filters\\reindent.py:122\u001b[0m, in \u001b[0;36mReindentFilter._process_parenthesis\u001b[1;34m(self, tlist)\u001b[0m\n\u001b[0;32m    120\u001b[0m \u001b[38;5;28;01mwith\u001b[39;00m indent(\u001b[38;5;28mself\u001b[39m, \u001b[38;5;241m1\u001b[39m \u001b[38;5;28;01mif\u001b[39;00m is_dml_dll \u001b[38;5;28;01melse\u001b[39;00m \u001b[38;5;241m0\u001b[39m):\n\u001b[0;32m    121\u001b[0m     tlist\u001b[38;5;241m.\u001b[39mtokens\u001b[38;5;241m.\u001b[39minsert(\u001b[38;5;241m0\u001b[39m, \u001b[38;5;28mself\u001b[39m\u001b[38;5;241m.\u001b[39mnl()) \u001b[38;5;28;01mif\u001b[39;00m is_dml_dll \u001b[38;5;28;01melse\u001b[39;00m \u001b[38;5;28;01mNone\u001b[39;00m\n\u001b[1;32m--> 122\u001b[0m     \u001b[38;5;28;01mwith\u001b[39;00m offset(\u001b[38;5;28mself\u001b[39m, \u001b[38;5;28;43mself\u001b[39;49m\u001b[38;5;241;43m.\u001b[39;49m\u001b[43m_get_offset\u001b[49m\u001b[43m(\u001b[49m\u001b[43mfirst\u001b[49m\u001b[43m)\u001b[49m \u001b[38;5;241m+\u001b[39m \u001b[38;5;241m1\u001b[39m):\n\u001b[0;32m    123\u001b[0m         \u001b[38;5;28mself\u001b[39m\u001b[38;5;241m.\u001b[39m_process_default(tlist, \u001b[38;5;129;01mnot\u001b[39;00m is_dml_dll)\n",
      "File \u001b[1;32mc:\\Users\\mafane\\AppData\\Local\\Programs\\Python\\Python313\\Lib\\site-packages\\sqlparse\\filters\\reindent.py:44\u001b[0m, in \u001b[0;36mReindentFilter._get_offset\u001b[1;34m(self, token)\u001b[0m\n\u001b[0;32m     43\u001b[0m \u001b[38;5;28;01mdef\u001b[39;00m\u001b[38;5;250m \u001b[39m\u001b[38;5;21m_get_offset\u001b[39m(\u001b[38;5;28mself\u001b[39m, token):\n\u001b[1;32m---> 44\u001b[0m     raw \u001b[38;5;241m=\u001b[39m \u001b[38;5;124;43m'\u001b[39;49m\u001b[38;5;124;43m'\u001b[39;49m\u001b[38;5;241;43m.\u001b[39;49m\u001b[43mjoin\u001b[49m\u001b[43m(\u001b[49m\u001b[38;5;28;43mmap\u001b[39;49m\u001b[43m(\u001b[49m\u001b[38;5;28;43mstr\u001b[39;49m\u001b[43m,\u001b[49m\u001b[43m \u001b[49m\u001b[38;5;28;43mself\u001b[39;49m\u001b[38;5;241;43m.\u001b[39;49m\u001b[43m_flatten_up_to_token\u001b[49m\u001b[43m(\u001b[49m\u001b[43mtoken\u001b[49m\u001b[43m)\u001b[49m\u001b[43m)\u001b[49m\u001b[43m)\u001b[49m\n\u001b[0;32m     45\u001b[0m     line \u001b[38;5;241m=\u001b[39m (raw \u001b[38;5;129;01mor\u001b[39;00m \u001b[38;5;124m'\u001b[39m\u001b[38;5;130;01m\\n\u001b[39;00m\u001b[38;5;124m'\u001b[39m)\u001b[38;5;241m.\u001b[39msplitlines()[\u001b[38;5;241m-\u001b[39m\u001b[38;5;241m1\u001b[39m]\n\u001b[0;32m     46\u001b[0m     \u001b[38;5;66;03m# Now take current offset into account and return relative offset.\u001b[39;00m\n",
      "File \u001b[1;32mc:\\Users\\mafane\\AppData\\Local\\Programs\\Python\\Python313\\Lib\\site-packages\\sqlparse\\filters\\reindent.py:34\u001b[0m, in \u001b[0;36mReindentFilter._flatten_up_to_token\u001b[1;34m(self, token)\u001b[0m\n\u001b[0;32m     31\u001b[0m \u001b[38;5;28;01mif\u001b[39;00m token\u001b[38;5;241m.\u001b[39mis_group:\n\u001b[0;32m     32\u001b[0m     token \u001b[38;5;241m=\u001b[39m \u001b[38;5;28mnext\u001b[39m(token\u001b[38;5;241m.\u001b[39mflatten())\n\u001b[1;32m---> 34\u001b[0m \u001b[43m\u001b[49m\u001b[38;5;28;43;01mfor\u001b[39;49;00m\u001b[43m \u001b[49m\u001b[43mt\u001b[49m\u001b[43m \u001b[49m\u001b[38;5;129;43;01min\u001b[39;49;00m\u001b[43m \u001b[49m\u001b[38;5;28;43mself\u001b[39;49m\u001b[38;5;241;43m.\u001b[39;49m\u001b[43m_curr_stmt\u001b[49m\u001b[38;5;241;43m.\u001b[39;49m\u001b[43mflatten\u001b[49m\u001b[43m(\u001b[49m\u001b[43m)\u001b[49m\u001b[43m:\u001b[49m\n\u001b[0;32m     35\u001b[0m \u001b[43m    \u001b[49m\u001b[38;5;28;43;01mif\u001b[39;49;00m\u001b[43m \u001b[49m\u001b[43mt\u001b[49m\u001b[43m \u001b[49m\u001b[38;5;241;43m==\u001b[39;49m\u001b[43m \u001b[49m\u001b[43mtoken\u001b[49m\u001b[43m:\u001b[49m\n\u001b[0;32m     36\u001b[0m \u001b[43m        \u001b[49m\u001b[38;5;28;43;01mbreak\u001b[39;49;00m\n",
      "File \u001b[1;32mc:\\Users\\mafane\\AppData\\Local\\Programs\\Python\\Python313\\Lib\\site-packages\\sqlparse\\sql.py:215\u001b[0m, in \u001b[0;36mTokenList.flatten\u001b[1;34m(self)\u001b[0m\n\u001b[0;32m    213\u001b[0m \u001b[38;5;28;01mfor\u001b[39;00m token \u001b[38;5;129;01min\u001b[39;00m \u001b[38;5;28mself\u001b[39m\u001b[38;5;241m.\u001b[39mtokens:\n\u001b[0;32m    214\u001b[0m     \u001b[38;5;28;01mif\u001b[39;00m token\u001b[38;5;241m.\u001b[39mis_group:\n\u001b[1;32m--> 215\u001b[0m         \u001b[38;5;28;01myield from\u001b[39;00m token\u001b[38;5;241m.\u001b[39mflatten()\n\u001b[0;32m    216\u001b[0m     \u001b[38;5;28;01melse\u001b[39;00m:\n\u001b[0;32m    217\u001b[0m         \u001b[38;5;28;01myield\u001b[39;00m token\n",
      "File \u001b[1;32mc:\\Users\\mafane\\AppData\\Local\\Programs\\Python\\Python313\\Lib\\site-packages\\sqlparse\\sql.py:215\u001b[0m, in \u001b[0;36mTokenList.flatten\u001b[1;34m(self)\u001b[0m\n\u001b[0;32m    213\u001b[0m \u001b[38;5;28;01mfor\u001b[39;00m token \u001b[38;5;129;01min\u001b[39;00m \u001b[38;5;28mself\u001b[39m\u001b[38;5;241m.\u001b[39mtokens:\n\u001b[0;32m    214\u001b[0m     \u001b[38;5;28;01mif\u001b[39;00m token\u001b[38;5;241m.\u001b[39mis_group:\n\u001b[1;32m--> 215\u001b[0m         \u001b[38;5;28;01myield from\u001b[39;00m token\u001b[38;5;241m.\u001b[39mflatten()\n\u001b[0;32m    216\u001b[0m     \u001b[38;5;28;01melse\u001b[39;00m:\n\u001b[0;32m    217\u001b[0m         \u001b[38;5;28;01myield\u001b[39;00m token\n",
      "    \u001b[1;31m[... skipping similar frames: TokenList.flatten at line 215 (2 times)]\u001b[0m\n",
      "File \u001b[1;32mc:\\Users\\mafane\\AppData\\Local\\Programs\\Python\\Python313\\Lib\\site-packages\\sqlparse\\sql.py:215\u001b[0m, in \u001b[0;36mTokenList.flatten\u001b[1;34m(self)\u001b[0m\n\u001b[0;32m    213\u001b[0m \u001b[38;5;28;01mfor\u001b[39;00m token \u001b[38;5;129;01min\u001b[39;00m \u001b[38;5;28mself\u001b[39m\u001b[38;5;241m.\u001b[39mtokens:\n\u001b[0;32m    214\u001b[0m     \u001b[38;5;28;01mif\u001b[39;00m token\u001b[38;5;241m.\u001b[39mis_group:\n\u001b[1;32m--> 215\u001b[0m         \u001b[38;5;28;01myield from\u001b[39;00m token\u001b[38;5;241m.\u001b[39mflatten()\n\u001b[0;32m    216\u001b[0m     \u001b[38;5;28;01melse\u001b[39;00m:\n\u001b[0;32m    217\u001b[0m         \u001b[38;5;28;01myield\u001b[39;00m token\n",
      "File \u001b[1;32mc:\\Users\\mafane\\AppData\\Local\\Programs\\Python\\Python313\\Lib\\site-packages\\sqlparse\\sql.py:208\u001b[0m, in \u001b[0;36mTokenList.flatten\u001b[1;34m(self)\u001b[0m\n\u001b[0;32m    205\u001b[0m             \u001b[38;5;28;01mreturn\u001b[39;00m token\n\u001b[0;32m    206\u001b[0m         idx \u001b[38;5;241m=\u001b[39m end\n\u001b[1;32m--> 208\u001b[0m \u001b[38;5;28;01mdef\u001b[39;00m\u001b[38;5;250m \u001b[39m\u001b[38;5;21mflatten\u001b[39m(\u001b[38;5;28mself\u001b[39m):\n\u001b[0;32m    209\u001b[0m \u001b[38;5;250m    \u001b[39m\u001b[38;5;124;03m\"\"\"Generator yielding ungrouped tokens.\u001b[39;00m\n\u001b[0;32m    210\u001b[0m \n\u001b[0;32m    211\u001b[0m \u001b[38;5;124;03m    This method is recursively called for all child tokens.\u001b[39;00m\n\u001b[0;32m    212\u001b[0m \u001b[38;5;124;03m    \"\"\"\u001b[39;00m\n\u001b[0;32m    213\u001b[0m     \u001b[38;5;28;01mfor\u001b[39;00m token \u001b[38;5;129;01min\u001b[39;00m \u001b[38;5;28mself\u001b[39m\u001b[38;5;241m.\u001b[39mtokens:\n",
      "\u001b[1;31mKeyboardInterrupt\u001b[0m: "
     ]
    }
   ],
   "source": [
    "res = calculate_query_similarity_with_tf_idf()\n",
    "res.to_excel(\"./Results/similarity_report_tf_idf.xlsx\", index=False)"
   ]
  },
  {
   "cell_type": "markdown",
   "metadata": {},
   "source": [
    "##### `read_in_excel_files`"
   ]
  },
  {
   "cell_type": "code",
   "execution_count": 3,
   "metadata": {},
   "outputs": [],
   "source": [
    "def read_in_excel_files(PATH):\n",
    "    try:\n",
    "        excel_data = glob.glob(PATH)\n",
    "\n",
    "        dataframes = [pd.read_excel(data, engine=\"openpyxl\") for data in excel_data]\n",
    "        query_df = pd.concat(dataframes, ignore_index=True)\n",
    "\n",
    "        logging.info(f\"Successfully read {len(excel_data)} excel file(s) from {PATH}.\")\n",
    "\n",
    "    except Exception as e:\n",
    "        logging.error(f\"Error in reading excel files: {e}\")\n",
    "\n",
    "    return query_df"
   ]
  },
  {
   "cell_type": "markdown",
   "metadata": {},
   "source": [
    "##### `preprocess_query_df`"
   ]
  },
  {
   "cell_type": "code",
   "execution_count": null,
   "metadata": {},
   "outputs": [],
   "source": [
    "def preprocess_query_df(query_df, QUERY_IDENTIFIER):\n",
    "    \"\"\"\n",
    "    Preprocesses a DataFrame of SQL queries by cleaning and formatting the SQL strings.\n",
    "\n",
    "    Parameters:\n",
    "    query_df (DataFrame): A DataFrame containing SQL queries with a column named 'SQL'.\n",
    "    QUERY_IDENTIFIER (str): A string identifier for the type of queries being processed, used for logging purposes.\n",
    "\n",
    "    Returns:\n",
    "    DataFrame: The preprocessed DataFrame with cleaned and formatted SQL queries.\n",
    "\n",
    "    The method performs the following steps:\n",
    "    1. Logs the start of the preprocessing.\n",
    "    2. Drops rows with missing 'SQL' values and fills other missing values with an empty string.\n",
    "    3. Replaces special characters in the 'SQL' column with their ASCII equivalents.\n",
    "    4. Applies several regex patterns to clean and format the SQL queries:\n",
    "        - Removes 'WITH' clauses.\n",
    "        - Strips schema names and table aliases.\n",
    "        - Replaces single quotes with double quotes and removes newline characters.\n",
    "        - Strips comments and reindents the SQL.\n",
    "        - Removes redundant spaces and standardizes alias formatting.\n",
    "    \"\"\"\n",
    "    logging.info(f\"Started {preprocess_query_df.__name__} for {QUERY_IDENTIFIER} queries.\")\n",
    "\n",
    "    query_df = query_df.dropna(subset=[\"SQL\"]).fillna(\"\")\n",
    "\n",
    "    query_df[\"SQL\"] = (query_df[\"SQL\"]\n",
    "                       .str.replace('ê', 'e').str.replace('é', 'e').str.replace('è', 'e').str.replace('à', 'a').str.replace('ç', 'c')\n",
    "                       .str.replace('ô', 'o').str.replace('û', 'u').str.replace('ù', 'u').str.replace('î', 'i').str.replace('ï', 'i')\n",
    "                       .str.replace('â', 'a').str.replace('ä', 'a').str.replace('ö', 'o').str.replace('ü', 'u').str.replace('ÿ', 'y')\n",
    "                       .str.replace('ñ', 'n').str.replace('É', 'E').str.replace('È', 'E').str.replace('À', 'A').str.replace('Ç', 'C')\n",
    "                       .str.replace('Ô', 'O').str.replace('Û', 'U').str.replace('Ù', 'U').str.replace('Î', 'I').str.replace('Ï', 'I')\n",
    "                       .str.replace('Â', 'A').str.replace('Ä', 'A').str.replace('Ö', 'O').str.replace('Ü', 'U').str.replace('Ÿ', 'Y')\n",
    "                       .str.replace('Ñ', 'N')\n",
    "    )\n",
    "\n",
    "    with_pattern = r'WITH\\s+\"\\w+\"\\s+AS\\s*\\(.*?\\)\\s*SELECT'\n",
    "    pattern_2 = r'\"[^\"]*\"\\.'\n",
    "    pattern_3 = r'\\w+\\.'\n",
    "\n",
    "    for index, query in enumerate(query_df[\"SQL\"]):\n",
    "        formatted_query = query.upper()\n",
    "        formatted_query = sqlparse.format(formatted_query, reindent=True, keyword_case='upper', strip_comments=True).strip()\n",
    "        formatted_query = formatted_query.replace(\"'\", '\"').replace(\"\\n\", \" \")\n",
    "        formatted_query = re.sub(with_pattern, 'SELECT', formatted_query, flags=re.DOTALL)\n",
    "        formatted_query = re.sub(pattern_2, '', formatted_query)\n",
    "        formatted_query = re.sub(pattern_3, '', formatted_query)\n",
    "        formatted_query = \" \".join(formatted_query.split())\n",
    "        formatted_query = re.sub(r'\"(\\w+)\" AS \"\\1\"', r'\"\\1\"', formatted_query)\n",
    "        formatted_query = re.sub(r'(\"\\w+\")\\s+\"\\w+\"', r'\\1', formatted_query)\n",
    "\n",
    "        query_df.at[index, 'SQL'] = formatted_query\n",
    "\n",
    "    logging.info(f\"Preprocessing of {QUERY_IDENTIFIER} queries successful.\")\n",
    "\n",
    "    return query_df"
   ]
  },
  {
   "cell_type": "markdown",
   "metadata": {},
   "source": [
    "##### `calculate_query_similarity`"
   ]
  },
  {
   "cell_type": "code",
   "execution_count": null,
   "metadata": {},
   "outputs": [],
   "source": [
    "def calculate_query_similarity(migrated_queries_preprocessed, new_queries_preprocessed):\n",
    "    \"\"\"\n",
    "    Calculates the similarity between new and migrated SQL queries using TF-IDF vectorization and cosine similarity.\n",
    "\n",
    "    Parameters:\n",
    "    migrated_queries_preprocessed (DataFrame): A DataFrame containing preprocessed migrated SQL queries with columns 'SQL' and 'Product Name'.\n",
    "    new_queries_preprocessed (DataFrame): A DataFrame containing preprocessed new SQL queries with columns 'SQL' and 'Product Name'.\n",
    "\n",
    "    Returns:\n",
    "    DataFrame: A DataFrame containing the top 3 most similar migrated queries for each new query, with columns:\n",
    "        - 'new_report_name': Name of the new report.\n",
    "        - 'new_report_name_1': Name of the migrated report.\n",
    "        - 'similarity': Similarity score between the new and migrated report.\n",
    "        - 'new_report_sql': SQL of the new report.\n",
    "        - 'new_report_sql_1': SQL of the migrated report.\n",
    "        - 'row_number': Rank of the similarity score for each new report.\n",
    "\n",
    "    The method performs the following steps:\n",
    "    1. Vectorizes the SQL queries using TF-IDF.\n",
    "    2. Computes the cosine similarity between new and migrated queries.\n",
    "    3. Constructs a similarity matrix and filters out identical report names.\n",
    "    4. Creates a DataFrame of similarity scores and ranks the top 3 most similar migrated queries for each new query.\n",
    "    \"\"\"\n",
    "    similarity_matrix = cosine_similarity(tfidf_new, tfidf_migrated)\n",
    "\n",
    "    similarity = []\n",
    "\n",
    "    for i in range(len(new_queries_preprocessed)):\n",
    "        for j in range(len(migrated_queries_preprocessed)):\n",
    "            similarity.append({\n",
    "                'new_report_name': str(new_queries_preprocessed['Product Name'][i]).strip(),\n",
    "                'migrated_report_name': str(migrated_queries_preprocessed['Product Name'][j]).strip(),\n",
    "                'similarity': similarity_matrix[i][j],\n",
    "                'new_report_sql': str(new_queries_preprocessed['SQL'][i]).strip(),\n",
    "                'migrated_report_sql': str(migrated_queries_preprocessed['SQL'][j]).strip(),\n",
    "            })\n",
    "\n",
    "    similarity = [entry for entry in similarity if entry['new_report_name'] != entry['new_report_name_1']]\n",
    "\n",
    "    similarity_df = pd.DataFrame(similarity).drop_duplicates(subset=[\"new_report_name\", \"migrated_report_name\"]).sort_values(by=['new_report_name', 'similarity'], ascending=[True, False])\n",
    "    similarity_df[\"row_number\"] = similarity_df.groupby(\"new_report_name\").cumcount() + 1\n",
    "\n",
    "    return similarity_df[similarity_df[\"row_number\"] < 4]"
   ]
  },
  {
   "cell_type": "code",
   "execution_count": null,
   "metadata": {},
   "outputs": [],
   "source": []
  }
 ],
 "metadata": {
  "kernelspec": {
   "display_name": "Python 3",
   "language": "python",
   "name": "python3"
  },
  "language_info": {
   "codemirror_mode": {
    "name": "ipython",
    "version": 3
   },
   "file_extension": ".py",
   "mimetype": "text/x-python",
   "name": "python",
   "nbconvert_exporter": "python",
   "pygments_lexer": "ipython3",
   "version": "3.13.1"
  }
 },
 "nbformat": 4,
 "nbformat_minor": 2
}
