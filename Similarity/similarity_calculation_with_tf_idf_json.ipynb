{
 "cells": [
  {
   "cell_type": "code",
   "execution_count": 1,
   "metadata": {},
   "outputs": [],
   "source": [
    "import json\n",
    "import pandas as pd\n",
    "from sklearn.feature_extraction.text import TfidfVectorizer\n",
    "from sklearn.metrics.pairwise import cosine_similarity"
   ]
  },
  {
   "cell_type": "code",
   "execution_count": 2,
   "metadata": {},
   "outputs": [],
   "source": [
    "def calculate_similarity_with_tf_idf():\n",
    "\n",
    "    MIGRATED_QUERY_PATH = \"../Query Processing/4_json_results/migrated_query_data.json\"\n",
    "    MIGRATED_QUERY_IDENTIFIER = \"migrated\"\n",
    "    migrated_query_data = load_query_data(MIGRATED_QUERY_PATH)\n",
    "\n",
    "    NEW_QUERY_PATH = \"../Query Processing/4_json_results/new_query_data.json\"\n",
    "    NEW_QUERY_IDENTIFIER = \"new\"\n",
    "    new_query_data = load_query_data(NEW_QUERY_PATH)\n",
    "\n",
    "    return calculate_similarity(migrated_query_data, new_query_data)"
   ]
  },
  {
   "cell_type": "code",
   "execution_count": 6,
   "metadata": {},
   "outputs": [
    {
     "ename": "TypeError",
     "evalue": "can only concatenate list (not \"str\") to list",
     "output_type": "error",
     "traceback": [
      "\u001b[1;31m---------------------------------------------------------------------------\u001b[0m",
      "\u001b[1;31mTypeError\u001b[0m                                 Traceback (most recent call last)",
      "Cell \u001b[1;32mIn[6], line 1\u001b[0m\n\u001b[1;32m----> 1\u001b[0m res \u001b[38;5;241m=\u001b[39m \u001b[43mcalculate_similarity_with_tf_idf\u001b[49m\u001b[43m(\u001b[49m\u001b[43m)\u001b[49m\n",
      "Cell \u001b[1;32mIn[2], line 11\u001b[0m, in \u001b[0;36mcalculate_similarity_with_tf_idf\u001b[1;34m()\u001b[0m\n\u001b[0;32m      8\u001b[0m NEW_QUERY_IDENTIFIER \u001b[38;5;241m=\u001b[39m \u001b[38;5;124m\"\u001b[39m\u001b[38;5;124mnew\u001b[39m\u001b[38;5;124m\"\u001b[39m\n\u001b[0;32m      9\u001b[0m new_query_data \u001b[38;5;241m=\u001b[39m load_query_data(NEW_QUERY_PATH)\n\u001b[1;32m---> 11\u001b[0m \u001b[38;5;28;01mreturn\u001b[39;00m \u001b[43mcalculate_similarity\u001b[49m\u001b[43m(\u001b[49m\u001b[43mmigrated_query_data\u001b[49m\u001b[43m,\u001b[49m\u001b[43m \u001b[49m\u001b[43mnew_query_data\u001b[49m\u001b[43m)\u001b[49m\n",
      "Cell \u001b[1;32mIn[4], line 3\u001b[0m, in \u001b[0;36mcalculate_similarity\u001b[1;34m(migrated_query_data, new_query_data)\u001b[0m\n\u001b[0;32m      1\u001b[0m \u001b[38;5;28;01mdef\u001b[39;00m\u001b[38;5;250m \u001b[39m\u001b[38;5;21mcalculate_similarity\u001b[39m(migrated_query_data, new_query_data):\n\u001b[1;32m----> 3\u001b[0m     migrated_queries \u001b[38;5;241m=\u001b[39m \u001b[43mextract_text_from_json\u001b[49m\u001b[43m(\u001b[49m\u001b[43mmigrated_query_data\u001b[49m\u001b[43m)\u001b[49m\n\u001b[0;32m      4\u001b[0m     new_queries \u001b[38;5;241m=\u001b[39m extract_text_from_json(new_query_data)\n\u001b[0;32m      6\u001b[0m     vectorizer \u001b[38;5;241m=\u001b[39m TfidfVectorizer()\n",
      "Cell \u001b[1;32mIn[5], line 5\u001b[0m, in \u001b[0;36mextract_text_from_json\u001b[1;34m(json_data)\u001b[0m\n\u001b[0;32m      2\u001b[0m reports \u001b[38;5;241m=\u001b[39m []\n\u001b[0;32m      4\u001b[0m \u001b[38;5;28;01mfor\u001b[39;00m query_key, query_value \u001b[38;5;129;01min\u001b[39;00m json_data\u001b[38;5;241m.\u001b[39mitems():\n\u001b[1;32m----> 5\u001b[0m     text \u001b[38;5;241m=\u001b[39m \u001b[38;5;124m\"\u001b[39m\u001b[38;5;124m \u001b[39m\u001b[38;5;124m\"\u001b[39m\u001b[38;5;241m.\u001b[39mjoin(\u001b[43mquery_value\u001b[49m\u001b[38;5;241;43m.\u001b[39;49m\u001b[43mget\u001b[49m\u001b[43m(\u001b[49m\u001b[38;5;124;43m\"\u001b[39;49m\u001b[38;5;124;43mtables_cleansed\u001b[39;49m\u001b[38;5;124;43m\"\u001b[39;49m\u001b[43m,\u001b[49m\u001b[43m \u001b[49m\u001b[43m[\u001b[49m\u001b[43m]\u001b[49m\u001b[43m)\u001b[49m\u001b[43m \u001b[49m\u001b[38;5;241;43m+\u001b[39;49m\u001b[43m \u001b[49m\u001b[43mquery_value\u001b[49m\u001b[38;5;241;43m.\u001b[39;49m\u001b[43mget\u001b[49m\u001b[43m(\u001b[49m\u001b[38;5;124;43m\"\u001b[39;49m\u001b[38;5;124;43mcolumns_cleansed\u001b[39;49m\u001b[38;5;124;43m\"\u001b[39;49m\u001b[43m,\u001b[49m\u001b[43m \u001b[49m\u001b[43m[\u001b[49m\u001b[43m]\u001b[49m\u001b[43m)\u001b[49m)\n\u001b[0;32m      6\u001b[0m     reports\u001b[38;5;241m.\u001b[39mappend(text)\n\u001b[0;32m      8\u001b[0m \u001b[38;5;28;01mreturn\u001b[39;00m reports\n",
      "\u001b[1;31mTypeError\u001b[0m: can only concatenate list (not \"str\") to list"
     ]
    }
   ],
   "source": [
    "res = calculate_similarity_with_tf_idf()"
   ]
  },
  {
   "cell_type": "code",
   "execution_count": 4,
   "metadata": {},
   "outputs": [
    {
     "ename": "NameError",
     "evalue": "name 'res' is not defined",
     "output_type": "error",
     "traceback": [
      "\u001b[1;31m---------------------------------------------------------------------------\u001b[0m",
      "\u001b[1;31mNameError\u001b[0m                                 Traceback (most recent call last)",
      "Cell \u001b[1;32mIn[4], line 1\u001b[0m\n\u001b[1;32m----> 1\u001b[0m \u001b[43mres\u001b[49m\u001b[38;5;241m.\u001b[39mto_excel(\u001b[38;5;124m'\u001b[39m\u001b[38;5;124m./Results/similarity_report_tf_idf.xlsx\u001b[39m\u001b[38;5;124m'\u001b[39m, index\u001b[38;5;241m=\u001b[39m\u001b[38;5;28;01mFalse\u001b[39;00m)\n",
      "\u001b[1;31mNameError\u001b[0m: name 'res' is not defined"
     ]
    }
   ],
   "source": [
    "res.to_excel('./Results/similarity_report_tf_idf.xlsx', index=False)"
   ]
  },
  {
   "cell_type": "markdown",
   "metadata": {},
   "source": [
    "##### `load_query_data`"
   ]
  },
  {
   "cell_type": "code",
   "execution_count": 3,
   "metadata": {},
   "outputs": [],
   "source": [
    "def load_query_data(PATH):\n",
    "\n",
    "    with open(PATH) as f:\n",
    "        query_meta_data = json.load(f)\n",
    "    return query_meta_data"
   ]
  },
  {
   "cell_type": "markdown",
   "metadata": {},
   "source": [
    "##### `calculate_similarity`"
   ]
  },
  {
   "cell_type": "code",
   "execution_count": 4,
   "metadata": {},
   "outputs": [],
   "source": [
    "def calculate_similarity(migrated_query_data, new_query_data):\n",
    "\n",
    "    migrated_queries = extract_text_from_json(migrated_query_data)\n",
    "    new_queries = extract_text_from_json(new_query_data)\n",
    "\n",
    "    vectorizer = TfidfVectorizer()\n",
    "    all_queries = migrated_queries + new_queries\n",
    "    tf_idf_matrix = vectorizer.fit_transform(all_queries)\n",
    "\n",
    "    similarity_matrix = cosine_similarity(tf_idf_matrix[:len(migrated_queries)], tf_idf_matrix[len(migrated_queries):])\n",
    "\n",
    "    final_df = pd.DataFrame(\n",
    "        [(old_key, new_key, similarity_matrix[i][j])\n",
    "         for i, old_key in enumerate(migrated_query_data.keys())\n",
    "         for j, new_key in enumerate(new_query_data.keys())],\n",
    "        columns=[\"migrated_report_name\", \"new_report_name\", \"similarity\"]\n",
    "    )\n",
    "\n",
    "    return final_df"
   ]
  },
  {
   "cell_type": "markdown",
   "metadata": {},
   "source": [
    "##### `extract_text_from_json`"
   ]
  },
  {
   "cell_type": "code",
   "execution_count": 5,
   "metadata": {},
   "outputs": [],
   "source": [
    "def extract_text_from_json(json_data):\n",
    "    reports = []\n",
    "\n",
    "    for query_key, query_value in json_data.items():\n",
    "        text = \" \".join(query_value.get(\"tables_cleansed\", []) + query_value.get(\"columns_cleansed\", []))\n",
    "        reports.append(text)\n",
    "\n",
    "    return reports"
   ]
  },
  {
   "cell_type": "code",
   "execution_count": null,
   "metadata": {},
   "outputs": [],
   "source": []
  }
 ],
 "metadata": {
  "kernelspec": {
   "display_name": "Python 3",
   "language": "python",
   "name": "python3"
  },
  "language_info": {
   "codemirror_mode": {
    "name": "ipython",
    "version": 3
   },
   "file_extension": ".py",
   "mimetype": "text/x-python",
   "name": "python",
   "nbconvert_exporter": "python",
   "pygments_lexer": "ipython3",
   "version": "3.13.1"
  }
 },
 "nbformat": 4,
 "nbformat_minor": 2
}
